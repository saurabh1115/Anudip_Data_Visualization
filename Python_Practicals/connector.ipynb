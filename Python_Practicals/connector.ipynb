{
 "cells": [
  {
   "cell_type": "code",
   "execution_count": 1,
   "metadata": {},
   "outputs": [],
   "source": [
    "import mysql.connector as my"
   ]
  },
  {
   "cell_type": "code",
   "execution_count": 3,
   "metadata": {},
   "outputs": [],
   "source": [
    "con = my.connect(\n",
    "    host = \"localhost\",\n",
    "    user = \"root\",\n",
    "    password = \"12345\",\n",
    "    database = \"student\"\n",
    ")"
   ]
  },
  {
   "cell_type": "code",
   "execution_count": 4,
   "metadata": {},
   "outputs": [],
   "source": [
    "# table or database creation, deletion or updation can be done using .execute function\n",
    "\n",
    "cr = con.cursor()\n",
    "cr.execute(\"Create database ABC\")"
   ]
  },
  {
   "cell_type": "code",
   "execution_count": 10,
   "metadata": {},
   "outputs": [],
   "source": [
    "cr.execute(\"create table student2(name varchar(20), age int, city varchar(20));\")\n"
   ]
  },
  {
   "cell_type": "code",
   "execution_count": 15,
   "metadata": {},
   "outputs": [
    {
     "name": "stdout",
     "output_type": "stream",
     "text": [
      "data inserted\n"
     ]
    }
   ],
   "source": [
    "# inserting data in the table\n",
    "\n",
    "name = input(\"enter the name\")\n",
    "age = int(input(\"enter the age\"))\n",
    "city = input(\"enter the city\")\n",
    "\n",
    "data = [name,age,city]\n",
    "\n",
    "cr=con.cursor()\n",
    "cr.execute(\"insert into student2 (name,age,city) values (%s,%s,%s)\",data)\n",
    "print(\"data inserted\")\n",
    "con.commit()"
   ]
  },
  {
   "cell_type": "code",
   "execution_count": 16,
   "metadata": {},
   "outputs": [
    {
     "name": "stdout",
     "output_type": "stream",
     "text": [
      "[('sheer', 3, 'ghz')]\n"
     ]
    }
   ],
   "source": [
    "# fetching data from the table\n",
    "\n",
    "cr.execute(\"select * from student2\")\n",
    "result = cr.fetchall()\n",
    "for data in result:\n",
    "    print(result)"
   ]
  }
 ],
 "metadata": {
  "kernelspec": {
   "display_name": "Python 3",
   "language": "python",
   "name": "python3"
  },
  "language_info": {
   "codemirror_mode": {
    "name": "ipython",
    "version": 3
   },
   "file_extension": ".py",
   "mimetype": "text/x-python",
   "name": "python",
   "nbconvert_exporter": "python",
   "pygments_lexer": "ipython3",
   "version": "3.12.3"
  }
 },
 "nbformat": 4,
 "nbformat_minor": 2
}
