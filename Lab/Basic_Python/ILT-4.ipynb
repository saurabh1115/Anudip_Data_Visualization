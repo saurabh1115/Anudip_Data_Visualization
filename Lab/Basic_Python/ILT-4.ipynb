{
 "cells": [
  {
   "cell_type": "code",
   "execution_count": 1,
   "metadata": {},
   "outputs": [
    {
     "name": "stdout",
     "output_type": "stream",
     "text": [
      "The sum of the numbers is: 15\n"
     ]
    }
   ],
   "source": [
    "numbers = [1, 2, 3, 4, 5]\n",
    "\n",
    "sum_of_numbers = sum(numbers)\n",
    "\n",
    "print(\"The sum of the numbers is:\", sum_of_numbers)"
   ]
  },
  {
   "cell_type": "code",
   "execution_count": 2,
   "metadata": {},
   "outputs": [
    {
     "name": "stdout",
     "output_type": "stream",
     "text": [
      "Largest number is: 89\n",
      "Smallest number is: 7\n"
     ]
    }
   ],
   "source": [
    "numbers = [12, 45, 7, 23, 56, 89, 34]\n",
    "\n",
    "# Initialize largest and smallest with the first element of the list\n",
    "largest = numbers[0]\n",
    "smallest = numbers[0]\n",
    "\n",
    "# Iterate over the list\n",
    "for num in numbers:\n",
    "    # Check if current number is larger than largest\n",
    "    if num > largest:\n",
    "        largest = num\n",
    "    # Check if current number is smaller than smallest\n",
    "    if num < smallest:\n",
    "        smallest = num\n",
    "\n",
    "print(\"Largest number is:\", largest)\n",
    "print(\"Smallest number is:\", smallest)"
   ]
  },
  {
   "cell_type": "code",
   "execution_count": 3,
   "metadata": {},
   "outputs": [
    {
     "name": "stdout",
     "output_type": "stream",
     "text": [
      "Duplicate values are: [2, 8]\n"
     ]
    }
   ],
   "source": [
    "numbers = [1, 2, 3, 4, 2, 7, 8, 8, 9]\n",
    "\n",
    "duplicates = []\n",
    "for i in range(len(numbers)):\n",
    "    for j in range(i + 1, len(numbers)):\n",
    "        if numbers[i] == numbers[j] and numbers[i] not in duplicates:\n",
    "            duplicates.append(numbers[i])\n",
    "\n",
    "if duplicates:\n",
    "    print(\"Duplicate values are:\", duplicates)\n",
    "else:\n",
    "    print(\"No duplicate values found.\")"
   ]
  },
  {
   "cell_type": "code",
   "execution_count": 4,
   "metadata": {},
   "outputs": [
    {
     "name": "stdout",
     "output_type": "stream",
     "text": [
      "Original list: [1, 1, 2, 3, 4, 4, 5, 1]\n",
      "Splitted list: ([1, 1, 2], [3, 4, 4, 5, 1])\n"
     ]
    }
   ],
   "source": [
    "original_list = [1, 1, 2, 3, 4, 4, 5, 1]\n",
    "first_part_length = 3\n",
    "\n",
    "first_part = original_list[:first_part_length]\n",
    "second_part = original_list[first_part_length:]\n",
    "\n",
    "print(\"Original list:\", original_list)\n",
    "print(\"Splitted list:\", (first_part, second_part))"
   ]
  },
  {
   "cell_type": "code",
   "execution_count": 5,
   "metadata": {},
   "outputs": [
    {
     "name": "stdout",
     "output_type": "stream",
     "text": [
      "Original list: ['red', 'green', 'white', 'black']\n",
      "black\n",
      "white\n",
      "green\n",
      "red\n"
     ]
    }
   ],
   "source": [
    "original_list = ['red', 'green', 'white', 'black']\n",
    "\n",
    "print(\"Original list:\", original_list)\n",
    "\n",
    "for i in range(len(original_list) - 1, -1, -1):\n",
    "    print(original_list[i])"
   ]
  },
  {
   "cell_type": "code",
   "execution_count": 6,
   "metadata": {},
   "outputs": [
    {
     "name": "stdout",
     "output_type": "stream",
     "text": [
      "Mean: 6.2\n"
     ]
    }
   ],
   "source": [
    "test_dict = {\"A\": 6, \"B\": 9, \"C\": 5, \"D\": 7, \"E\": 4}\n",
    "\n",
    "# Calculate the mean\n",
    "mean = sum(test_dict.values()) / len(test_dict)\n",
    "\n",
    "print(\"Mean:\", mean)"
   ]
  },
  {
   "cell_type": "code",
   "execution_count": 10,
   "metadata": {},
   "outputs": [
    {
     "name": "stdout",
     "output_type": "stream",
     "text": [
      "Concatenated Dictionary: {1: 10, 2: 20, 3: 30, 4: 40, 5: 50, 6: 60}\n"
     ]
    }
   ],
   "source": [
    "dic1 = {1: 10, 2: 20}\n",
    "dic2 = {3: 30, 4: 40}\n",
    "dic3 = {5: 50, 6: 60}\n",
    "\n",
    "# Concatenate the dictionaries using the {**dict1, **dict2, **dict3} syntax\n",
    "new_dict = {**dic1, **dic2, **dic3}\n",
    "\n",
    "print(\"Concatenated Dictionary:\", new_dict)"
   ]
  },
  {
   "cell_type": "code",
   "execution_count": 11,
   "metadata": {},
   "outputs": [
    {
     "name": "stdout",
     "output_type": "stream",
     "text": [
      "Key\tValue\n",
      "1\t10\n",
      "2\t20\n",
      "3\t30\n",
      "4\t40\n",
      "5\t50\n",
      "6\t60\n"
     ]
    }
   ],
   "source": [
    "dict_num = {1: 10, 2: 20, 3: 30, 4: 40, 5: 50, 6: 60}\n",
    "\n",
    "print(\"Key\\tValue\")\n",
    "for key, value in dict_num.items():\n",
    "    print(f\"{key}\\t{value}\")"
   ]
  },
  {
   "cell_type": "code",
   "execution_count": 12,
   "metadata": {},
   "outputs": [
    {
     "name": "stdout",
     "output_type": "stream",
     "text": [
      "dict with empty items Dropped :\n",
      "{1: 10, 2: 20, 4: 40, 6: 60}\n"
     ]
    }
   ],
   "source": [
    "input_dict = {1: 10, 2: 20, 3: None, 4: 40, 5: None, 6: 60}\n",
    "\n",
    "# Create a new dictionary with only the items that have non-None values\n",
    "output_dict = {key: value for key, value in input_dict.items() if value is not None}\n",
    "\n",
    "print(\"dict with empty items Dropped :\")\n",
    "print(output_dict)"
   ]
  },
  {
   "cell_type": "code",
   "execution_count": 13,
   "metadata": {},
   "outputs": [
    {
     "name": "stdout",
     "output_type": "stream",
     "text": [
      "The number 4 appears 3 times in the tuple.\n"
     ]
    }
   ],
   "source": [
    "tuplex = (2, 4, 5, 6, 2, 3, 4, 4, 7)\n",
    "\n",
    "count = tuplex.count(4)\n",
    "\n",
    "print(\"The number 4 appears\", count, \"times in the tuple.\")"
   ]
  },
  {
   "cell_type": "code",
   "execution_count": 14,
   "metadata": {},
   "outputs": [
    {
     "name": "stdout",
     "output_type": "stream",
     "text": [
      "(5, 10, 7, 4, 15, 3)\n"
     ]
    }
   ],
   "source": [
    "listx = [5, 10, 7, 4, 15, 3]\n",
    "\n",
    "# Convert the list to a tuple using the tuple() function\n",
    "tuplex = tuple(listx)\n",
    "\n",
    "print(tuplex)"
   ]
  },
  {
   "cell_type": "code",
   "execution_count": 15,
   "metadata": {},
   "outputs": [
    {
     "name": "stdout",
     "output_type": "stream",
     "text": [
      "sum of tuple is : 21\n"
     ]
    }
   ],
   "source": [
    "tuples_list = [(1, 2), (3, 4), (5, 6)]\n",
    "\n",
    "# Calculate the sum of the numbers in the tuple\n",
    "total_sum = sum(num for tup in tuples_list for num in tup)\n",
    "\n",
    "print(\"sum of tuple is :\", total_sum)"
   ]
  },
  {
   "cell_type": "code",
   "execution_count": 16,
   "metadata": {},
   "outputs": [
    {
     "name": "stdout",
     "output_type": "stream",
     "text": [
      "Employee Records :\n",
      "\n",
      "Name :  John Doe\n",
      "Employee ID :  101\n",
      "Department :  Human Resources\n",
      "Salary :  60000\n",
      "\n",
      "Name :  Alice Smith\n",
      "Employee ID :  102\n",
      "Department :  Marketing\n",
      "Salary :  55000\n",
      "\n",
      "Name :  Bob Johnson\n",
      "Employee ID :  103\n",
      "Department :  Engineering\n",
      "Salary :  75000\n"
     ]
    }
   ],
   "source": [
    "# Define the employee tuples\n",
    "employee1 = (\"John Doe\", 101, \"Human Resources\", 60000)\n",
    "employee2 = (\"Alice Smith\", 102, \"Marketing\", 55000)\n",
    "employee3 = (\"Bob Johnson\", 103, \"Engineering\", 75000)\n",
    "\n",
    "# Define a list of employee tuples\n",
    "employees = [employee1, employee2, employee3]\n",
    "\n",
    "# Print the employee records\n",
    "print(\"Employee Records :\")\n",
    "\n",
    "for employee in employees:\n",
    "    # Unpack the employee tuple\n",
    "    name, employee_id, department, salary = employee\n",
    "    \n",
    "    # Print the employee record\n",
    "    print(\"\\nName : \", name)\n",
    "    print(\"Employee ID : \", employee_id)\n",
    "    print(\"Department : \", department)\n",
    "    print(\"Salary : \", salary)"
   ]
  },
  {
   "cell_type": "code",
   "execution_count": 17,
   "metadata": {},
   "outputs": [
    {
     "name": "stdout",
     "output_type": "stream",
     "text": [
      "{70, 40, 10, 50, 20, 60, 30}\n"
     ]
    }
   ],
   "source": [
    "# Define the input sets\n",
    "set1 = {10, 20, 30, 40, 50}\n",
    "set2 = {30, 40, 50, 60, 70}\n",
    "\n",
    "# Use the union operator to get unique items from both sets\n",
    "unique_items = set1.union(set2)\n",
    "\n",
    "print(unique_items)"
   ]
  },
  {
   "cell_type": "code",
   "execution_count": 18,
   "metadata": {},
   "outputs": [
    {
     "name": "stdout",
     "output_type": "stream",
     "text": [
      "{20, 70, 10, 60}\n"
     ]
    }
   ],
   "source": [
    "# Define the input sets\n",
    "set1 = {10, 20, 30, 40, 50}\n",
    "set2 = {30, 40, 50, 60, 70}\n",
    "\n",
    "# Use the symmetric difference operator to get elements present in Set A or B, but not both\n",
    "result = set1.symmetric_difference(set2)\n",
    "\n",
    "print(result)"
   ]
  },
  {
   "cell_type": "code",
   "execution_count": 19,
   "metadata": {},
   "outputs": [
    {
     "name": "stdout",
     "output_type": "stream",
     "text": [
      "The sets have common elements:\n",
      "{10}\n"
     ]
    }
   ],
   "source": [
    "# Define the input sets\n",
    "set1 = {10, 20, 30, 40, 50}\n",
    "set2 = {60, 70, 80, 90, 10}\n",
    "\n",
    "# Check if the sets have any elements in common\n",
    "if set1.intersection(set2):\n",
    "    print(\"The sets have common elements:\")\n",
    "    print(set1.intersection(set2))\n",
    "else:\n",
    "    print(\"The sets have no common elements.\")"
   ]
  },
  {
   "cell_type": "code",
   "execution_count": 20,
   "metadata": {},
   "outputs": [
    {
     "name": "stdout",
     "output_type": "stream",
     "text": [
      "{40, 50, 30}\n"
     ]
    }
   ],
   "source": [
    "# Define the input sets\n",
    "set1 = {10, 20, 30, 40, 50}\n",
    "set2 = {30, 40, 50, 60, 70}\n",
    "\n",
    "# Remove items from set1 that are not common to both set1 and set2\n",
    "set1.intersection_update(set2)\n",
    "\n",
    "print(set1)"
   ]
  },
  {
   "cell_type": "code",
   "execution_count": null,
   "metadata": {},
   "outputs": [],
   "source": []
  }
 ],
 "metadata": {
  "kernelspec": {
   "display_name": "Python 3",
   "language": "python",
   "name": "python3"
  },
  "language_info": {
   "codemirror_mode": {
    "name": "ipython",
    "version": 3
   },
   "file_extension": ".py",
   "mimetype": "text/x-python",
   "name": "python",
   "nbconvert_exporter": "python",
   "pygments_lexer": "ipython3",
   "version": "3.12.4"
  }
 },
 "nbformat": 4,
 "nbformat_minor": 2
}
