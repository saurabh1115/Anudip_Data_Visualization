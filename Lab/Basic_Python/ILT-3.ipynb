{
 "cells": [
  {
   "cell_type": "code",
   "execution_count": 1,
   "metadata": {},
   "outputs": [],
   "source": [
    "# 1. Declare a div() function with two parameters. Then call the function and pass two numbers and display their division."
   ]
  },
  {
   "cell_type": "code",
   "execution_count": 2,
   "metadata": {},
   "outputs": [
    {
     "name": "stdout",
     "output_type": "stream",
     "text": [
      "2.0\n"
     ]
    }
   ],
   "source": [
    "def div(a,b):\n",
    "    result =a/b\n",
    "    print(result)\n",
    "div(20,10)"
   ]
  },
  {
   "cell_type": "code",
   "execution_count": 3,
   "metadata": {},
   "outputs": [],
   "source": [
    "# 2. Declare a square() function with one parameter.Then call the function and pass one number and display the square of that number "
   ]
  },
  {
   "cell_type": "code",
   "execution_count": 4,
   "metadata": {},
   "outputs": [
    {
     "name": "stdout",
     "output_type": "stream",
     "text": [
      "25\n"
     ]
    }
   ],
   "source": [
    "def square(a):\n",
    "    result= a*a\n",
    "    print(result)\n",
    "square(5)"
   ]
  },
  {
   "cell_type": "code",
   "execution_count": 5,
   "metadata": {},
   "outputs": [],
   "source": [
    "# 3. Using max() and min() functions display the maximum and minimum of 5 random numbers."
   ]
  },
  {
   "cell_type": "code",
   "execution_count": 6,
   "metadata": {},
   "outputs": [
    {
     "name": "stdout",
     "output_type": "stream",
     "text": [
      "Random Numbers: [9, 68, 72, 7, 14]\n",
      "The maximum number is: 72\n",
      "The minimum number is: 7\n"
     ]
    }
   ],
   "source": [
    "import random\n",
    "random_numbers = [random.randint(1, 100) for _ in range(5)]\n",
    "print(\"Random Numbers:\", random_numbers)\n",
    "max_number = max(random_numbers)\n",
    "min_number = min(random_numbers)\n",
    "\n",
    "print(\"The maximum number is:\", max_number)\n",
    "print(\"The minimum number is:\", min_number)"
   ]
  },
  {
   "cell_type": "code",
   "execution_count": 7,
   "metadata": {},
   "outputs": [],
   "source": [
    "# 4. Accept a name from the user and display that in lower case using lower() function"
   ]
  },
  {
   "cell_type": "code",
   "execution_count": 8,
   "metadata": {},
   "outputs": [
    {
     "name": "stdout",
     "output_type": "stream",
     "text": [
      "Name in Lower Case:  rajeev\n"
     ]
    }
   ],
   "source": [
    "name = input(\"Enter You Name: \")\n",
    "print(\"Name in Lower Case: \",name.lower())"
   ]
  },
  {
   "cell_type": "code",
   "execution_count": 9,
   "metadata": {},
   "outputs": [],
   "source": [
    "# Write a Python program to count the occurrences of each word in a given sentence"
   ]
  },
  {
   "cell_type": "code",
   "execution_count": 10,
   "metadata": {},
   "outputs": [
    {
     "name": "stdout",
     "output_type": "stream",
     "text": [
      "{'To': 2, 'change': 2, 'the': 3, 'overall': 1, 'look': 2, 'of': 1, 'your': 1, 'document.': 1, 'available': 1, 'in': 1, 'gallery': 1}\n"
     ]
    }
   ],
   "source": [
    "str = \"To change the overall look of your document. To change the look available in the gallery\"\n",
    "str.lower()\n",
    "words = str.split()\n",
    "word_count={}\n",
    "for word in words:\n",
    "    if word in word_count:\n",
    "       word_count[word]+=1\n",
    "    else:\n",
    "       word_count[word]=1\n",
    "print(word_count)"
   ]
  },
  {
   "cell_type": "code",
   "execution_count": 11,
   "metadata": {},
   "outputs": [],
   "source": [
    "# Write a Python program to remove a newline in Python"
   ]
  },
  {
   "cell_type": "code",
   "execution_count": 12,
   "metadata": {},
   "outputs": [
    {
     "name": "stdout",
     "output_type": "stream",
     "text": [
      "Best Deeptech Python Training\n"
     ]
    }
   ],
   "source": [
    "str = \"\\nBest \\nDeeptech \\nPython \\nTraining\\n\"    \n",
    "print(str.replace(\"\\n\",\"\"))"
   ]
  },
  {
   "cell_type": "code",
   "execution_count": 13,
   "metadata": {},
   "outputs": [],
   "source": [
    "# Write a Python program to reverse words in a string "
   ]
  },
  {
   "cell_type": "code",
   "execution_count": 14,
   "metadata": {},
   "outputs": [
    {
     "name": "stdout",
     "output_type": "stream",
     "text": [
      "gniniarT nohtyP hcetpeeD\n"
     ]
    }
   ],
   "source": [
    "str=\"Deeptech Python Training\"\n",
    "print(str[::-1])"
   ]
  },
  {
   "cell_type": "code",
   "execution_count": 15,
   "metadata": {},
   "outputs": [],
   "source": [
    "# Write a Python program to count and display the vowels of a given text"
   ]
  },
  {
   "cell_type": "code",
   "execution_count": 16,
   "metadata": {},
   "outputs": [
    {
     "name": "stdout",
     "output_type": "stream",
     "text": [
      "e 1\n",
      "o 2\n",
      "e 3\n",
      "o 4\n",
      "o 5\n",
      "a 6\n",
      "i 7\n",
      "i 8\n"
     ]
    }
   ],
   "source": [
    "str = \"Welcome to python Training\"\n",
    "count = 0\n",
    "lower_str=str.lower()\n",
    "for i in lower_str:\n",
    "    if(i==\"a\" or i==\"e\" or i==\"i\" or i==\"o\" or i==\"u\"):\n",
    "        count+=1\n",
    "        print(i,count)"
   ]
  },
  {
   "cell_type": "code",
   "execution_count": 17,
   "metadata": {},
   "outputs": [],
   "source": [
    "#Write a Python program to Count all letters, digits, and special symbols from the given string"
   ]
  },
  {
   "cell_type": "code",
   "execution_count": 19,
   "metadata": {},
   "outputs": [
    {
     "name": "stdout",
     "output_type": "stream",
     "text": [
      "Chars= 8 alpha= 3 symbols= 4\n"
     ]
    }
   ],
   "source": [
    "Input = \"P@#yn26at^&i5ve\"\n",
    "chars = 0\n",
    "digit=0\n",
    "symbols=0\n",
    "for char in Input:\n",
    "    if char.isalpha():\n",
    "        chars+=1\n",
    "    elif char.isdigit():\n",
    "        digit+=1\n",
    "    else:\n",
    "        symbols+=1\n",
    "print(\"Chars=\",chars,\"alpha=\",digit,\"symbols=\",symbols)"
   ]
  },
  {
   "cell_type": "code",
   "execution_count": 20,
   "metadata": {},
   "outputs": [],
   "source": [
    "#Write a Python program to remove duplicate characters of a given string"
   ]
  },
  {
   "cell_type": "code",
   "execution_count": 21,
   "metadata": {},
   "outputs": [
    {
     "name": "stdout",
     "output_type": "stream",
     "text": [
      "String after removing duplicate words: String and Function\n"
     ]
    }
   ],
   "source": [
    "Input = \"String and String Function\"\n",
    "result = []\n",
    "words = Input.split()\n",
    "for word in words:\n",
    "    if word not in result:\n",
    "         result.append(word)\n",
    "print(\"String after removing duplicate words:\", *result)"
   ]
  },
  {
   "cell_type": "code",
   "execution_count": 22,
   "metadata": {},
   "outputs": [],
   "source": [
    "# Write a Python program to count Uppercase, Lowercase, special character and numeric values in a given string"
   ]
  },
  {
   "cell_type": "code",
   "execution_count": 23,
   "metadata": {},
   "outputs": [
    {
     "name": "stdout",
     "output_type": "stream",
     "text": [
      "UpperCase : 5 LowerCase : 18 NumberCase : 5 SpecialCase : 11\n"
     ]
    }
   ],
   "source": [
    "Input = \"Hell0 W0rld ! 123 * # welcome to pYtHoN\"\n",
    "upper=0\n",
    "lower=0\n",
    "special=0\n",
    "num=0\n",
    "for char in Input:\n",
    "    if char.isupper():\n",
    "        upper+=1\n",
    "    elif char.islower():\n",
    "        lower+=1\n",
    "    elif char.isnumeric():\n",
    "        num+=1\n",
    "    else:\n",
    "        special+=1\n",
    "print(\"UpperCase :\",upper,\"LowerCase :\",lower,\"NumberCase :\",num,\"SpecialCase :\",special)"
   ]
  },
  {
   "cell_type": "code",
   "execution_count": 24,
   "metadata": {},
   "outputs": [],
   "source": [
    "#Write a Python Count vowels in a string"
   ]
  },
  {
   "cell_type": "code",
   "execution_count": 25,
   "metadata": {},
   "outputs": [
    {
     "name": "stdout",
     "output_type": "stream",
     "text": [
      "Total vowels are: 8\n"
     ]
    }
   ],
   "source": [
    "input= \"Welcome to Python Assignment\"\n",
    "count = 0\n",
    "lower_str=input.lower()\n",
    "for i in lower_str:\n",
    "    if(i==\"a\" or i==\"e\" or i==\"i\" or i==\"o\" or i==\"u\"):\n",
    "        count+=1\n",
    "print(\"Total vowels are:\",count)     "
   ]
  }
 ],
 "metadata": {
  "kernelspec": {
   "display_name": "Python 3",
   "language": "python",
   "name": "python3"
  },
  "language_info": {
   "codemirror_mode": {
    "name": "ipython",
    "version": 3
   },
   "file_extension": ".py",
   "mimetype": "text/x-python",
   "name": "python",
   "nbconvert_exporter": "python",
   "pygments_lexer": "ipython3",
   "version": "3.12.4"
  }
 },
 "nbformat": 4,
 "nbformat_minor": 2
}
