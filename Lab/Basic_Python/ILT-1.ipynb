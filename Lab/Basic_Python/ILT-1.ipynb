{
 "cells": [
  {
   "cell_type": "code",
   "execution_count": 2,
   "metadata": {},
   "outputs": [
    {
     "name": "stdout",
     "output_type": "stream",
     "text": [
      "The number 40 is Even.\n"
     ]
    }
   ],
   "source": [
    "# Get user input\n",
    "num = int(input(\"Enter a number: \"))\n",
    "\n",
    "# Use ternary operator to determine if the number is even or odd\n",
    "result = \"Even\" if num % 2 == 0 else \"Odd\"\n",
    "\n",
    "# Print the result\n",
    "print(f\"The number {num} is {result}.\")"
   ]
  },
  {
   "cell_type": "code",
   "execution_count": 3,
   "metadata": {},
   "outputs": [
    {
     "name": "stdout",
     "output_type": "stream",
     "text": [
      "Original numbers: num1 = 40, num2 = 20\n",
      "Swapped numbers: num1 = 20, num2 = 40\n"
     ]
    }
   ],
   "source": [
    "# Get two numbers from the user\n",
    "num1 = int(input(\"Enter the first number: \"))\n",
    "num2 = int(input(\"Enter the second number: \"))\n",
    "\n",
    "# Print the original numbers\n",
    "print(f\"Original numbers: num1 = {num1}, num2 = {num2}\")\n",
    "\n",
    "# Swap the numbers using a temporary variable\n",
    "temp = num1\n",
    "num1 = num2\n",
    "num2 = temp\n",
    "\n",
    "# Print the swapped numbers\n",
    "print(f\"Swapped numbers: num1 = {num1}, num2 = {num2}\")"
   ]
  },
  {
   "cell_type": "code",
   "execution_count": 5,
   "metadata": {},
   "outputs": [
    {
     "name": "stdout",
     "output_type": "stream",
     "text": [
      "40.0 kilometers is approximately 24.85 miles.\n"
     ]
    }
   ],
   "source": [
    "# Define a function to convert kilometers to miles\n",
    "def km_to_miles(km):\n",
    "    miles = km * 0.621371  # 1 kilometer is approximately 0.621371 miles\n",
    "    return miles\n",
    "\n",
    "# Get the distance in kilometers from the user\n",
    "km = float(input(\"Enter a distance in kilometers: \"))\n",
    "\n",
    "# Convert the distance to miles\n",
    "miles = km_to_miles(km)\n",
    "\n",
    "# Print the result\n",
    "print(f\"{km} kilometers is approximately {miles:.2f} miles.\")"
   ]
  },
  {
   "cell_type": "code",
   "execution_count": 6,
   "metadata": {},
   "outputs": [
    {
     "name": "stdout",
     "output_type": "stream",
     "text": [
      "Simple Interest Calculator\n",
      "Principal Amount: Rs. 200\n",
      "Interest Rate: 5.0% per year\n",
      "Time Period: 5 years\n",
      "Simple Interest: Rs. 50.00\n",
      "Total Amount: Rs. 250.00\n"
     ]
    }
   ],
   "source": [
    "# Define the principal amount, interest rate, and time period\n",
    "principal = 200\n",
    "interest_rate = 5 / 100  # 5% as a decimal\n",
    "time_period = 5  # in years\n",
    "\n",
    "# Calculate the simple interest\n",
    "simple_interest = (principal * interest_rate * time_period)\n",
    "\n",
    "# Calculate the total amount\n",
    "total_amount = principal + simple_interest\n",
    "\n",
    "# Print the results\n",
    "print(\"Simple Interest Calculator\")\n",
    "print(f\"Principal Amount: Rs. {principal}\")\n",
    "print(f\"Interest Rate: {interest_rate*100}% per year\")\n",
    "print(f\"Time Period: {time_period} years\")\n",
    "print(f\"Simple Interest: Rs. {simple_interest:.2f}\")\n",
    "print(f\"Total Amount: Rs. {total_amount:.2f}\")"
   ]
  },
  {
   "cell_type": "code",
   "execution_count": null,
   "metadata": {},
   "outputs": [],
   "source": []
  }
 ],
 "metadata": {
  "kernelspec": {
   "display_name": "Python 3",
   "language": "python",
   "name": "python3"
  },
  "language_info": {
   "codemirror_mode": {
    "name": "ipython",
    "version": 3
   },
   "file_extension": ".py",
   "mimetype": "text/x-python",
   "name": "python",
   "nbconvert_exporter": "python",
   "pygments_lexer": "ipython3",
   "version": "3.12.4"
  }
 },
 "nbformat": 4,
 "nbformat_minor": 2
}
