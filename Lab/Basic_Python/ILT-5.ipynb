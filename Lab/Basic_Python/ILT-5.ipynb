{
 "cells": [
  {
   "cell_type": "code",
   "execution_count": 4,
   "metadata": {},
   "outputs": [],
   "source": [
    "#1. Write a function in python to read the content from a text file \"ABC.txt\" line by line and display the same on screen.\n",
    "file = open(\"ABC.txt\", 'w')\n",
    "file.write(\"Clouds drifted lazily across the sky, obscuring the moon's glow.\\n\")\n",
    "file.write(\"The sun set over the horizon, painting the sky with hues of orange and pink.\\n\")\n",
    "file.write(\"Beneath the stars, a quiet serenity embraced the night.\\n\")\n",
    "file.write(\"Tiny droplets of rain began to fall, tapping softly on the windowpane.\\n\")\n",
    "file.write(\"Time seemed to stand still as the world was enveloped in the tranquility of twilight.\\n\")\n",
    "file.write(\"Thunder rumbled in the distance, heralding the arrival of a summer storm.\\n\")\n",
    "file.close()"
   ]
  },
  {
   "cell_type": "code",
   "execution_count": 12,
   "metadata": {},
   "outputs": [
    {
     "name": "stdout",
     "output_type": "stream",
     "text": [
      "Clouds drifted lazily across the sky, obscuring the moon's glow.\n",
      "The sun set over the horizon, painting the sky with hues of orange and pink.\n",
      "Beneath the stars, a quiet serenity embraced the night.\n",
      "Tiny droplets of rain began to fall, tapping softly on the windowpane.\n",
      "Time seemed to stand still as the world was enveloped in the tranquility of twilight.\n",
      "Thunder rumbled in the distance, heralding the arrival of a summer storm.\n"
     ]
    }
   ],
   "source": [
    "def reading (fil):\n",
    "    file=open(fil, 'r')\n",
    "    for line in file:\n",
    "        print(line.strip())\n",
    "    file.close()\n",
    "reading('ABC.txt')"
   ]
  },
  {
   "cell_type": "code",
   "execution_count": 8,
   "metadata": {},
   "outputs": [],
   "source": [
    "#2. Write a function in Python to count and display the total number of words in a text file “ABC.txt”"
   ]
  },
  {
   "cell_type": "code",
   "execution_count": 17,
   "metadata": {},
   "outputs": [
    {
     "name": "stdout",
     "output_type": "stream",
     "text": [
      "Total words in file  73\n"
     ]
    }
   ],
   "source": [
    "def count_words(fil):\n",
    "    file=open(fil, 'r')\n",
    "    text = file.read()\n",
    "    words = text.split()\n",
    "    word_count = len(words)\n",
    "    print(\"Total words in file \", word_count)\n",
    "    file.close()\n",
    "count_words('ABC.txt')"
   ]
  },
  {
   "cell_type": "code",
   "execution_count": 16,
   "metadata": {},
   "outputs": [],
   "source": [
    "#3. Write a function in Python to count uppercase character in a text file “ABC.txt”"
   ]
  },
  {
   "cell_type": "code",
   "execution_count": 18,
   "metadata": {},
   "outputs": [
    {
     "name": "stdout",
     "output_type": "stream",
     "text": [
      "Total uppercase characters in file  6\n"
     ]
    }
   ],
   "source": [
    "def count_uppercase(fil):\n",
    "    file=open(fil, 'r')\n",
    "    text = file.read()\n",
    "    uppercase_count = sum(1 for char in text if char.isupper())\n",
    "    print(\"Total uppercase characters in file \",uppercase_count)\n",
    "count_uppercase('ABC.txt')"
   ]
  },
  {
   "cell_type": "code",
   "execution_count": 19,
   "metadata": {},
   "outputs": [],
   "source": [
    "# 4. Write a function display_words() in python to read lines from a text file \"story.txt\",and display those words, which are less than 4 characters."
   ]
  },
  {
   "cell_type": "code",
   "execution_count": 21,
   "metadata": {},
   "outputs": [
    {
     "name": "stdout",
     "output_type": "stream",
     "text": [
      "the\n",
      "the\n",
      "The\n",
      "sun\n",
      "set\n",
      "the\n",
      "the\n",
      "sky\n",
      "of\n",
      "and\n",
      "the\n",
      "a\n",
      "the\n",
      "of\n",
      "to\n",
      "on\n",
      "the\n",
      "to\n",
      "as\n",
      "the\n",
      "was\n",
      "in\n",
      "the\n",
      "of\n",
      "in\n",
      "the\n",
      "the\n",
      "of\n",
      "a\n"
     ]
    }
   ],
   "source": [
    "file = open(\"story.txt\", 'w')\n",
    "file.write(\"Clouds drifted lazily across the sky, obscuring the moon's glow.\\n\")\n",
    "file.write(\"The sun set over the horizon, painting the sky with hues of orange and pink.\\n\")\n",
    "file.write(\"Beneath the stars, a quiet serenity embraced the night.\\n\")\n",
    "file.write(\"Tiny droplets of rain began to fall, tapping softly on the windowpane.\\n\")\n",
    "file.write(\"Time seemed to stand still as the world was enveloped in the tranquility of twilight.\\n\")\n",
    "file.write(\"Thunder rumbled in the distance, heralding the arrival of a summer storm.\\n\")\n",
    "file.close()\n",
    "\n",
    "def display_words(file_name):\n",
    "    file=open(file_name, 'r')\n",
    "    for line in file:\n",
    "        words = line.split()\n",
    "        for word in words:\n",
    "            if len(word) < 4:\n",
    "                print(word)\n",
    "\n",
    "\n",
    "# Example usage:\n",
    "display_words('story.txt')"
   ]
  },
  {
   "cell_type": "code",
   "execution_count": 22,
   "metadata": {},
   "outputs": [],
   "source": [
    "# Exception Handling\n",
    "# 1. Write a Python program to handle a ZeroDivisionError exception when dividing a number by zero."
   ]
  },
  {
   "cell_type": "code",
   "execution_count": 4,
   "metadata": {},
   "outputs": [
    {
     "name": "stdout",
     "output_type": "stream",
     "text": [
      "ZERO DIVISION ERROR ENCOUNTERED\n"
     ]
    }
   ],
   "source": [
    "def div(a,b):\n",
    "    result=a/b\n",
    "    print(result)\n",
    "try:\n",
    "    div(10,0)\n",
    "except ZeroDivisionError as e :\n",
    "    print(\"ZERO DIVISION ERROR ENCOUNTERED\")"
   ]
  },
  {
   "cell_type": "code",
   "execution_count": 5,
   "metadata": {},
   "outputs": [],
   "source": [
    "#2. Write a Python program that prompts the user to input an integer and raises a ValueError exception if the input is not a valid integer."
   ]
  },
  {
   "cell_type": "code",
   "execution_count": 1,
   "metadata": {},
   "outputs": [],
   "source": [
    "try:\n",
    "    num=int(input(\"ENTER A NUMBER: \"))\n",
    "except ValueError as v:\n",
    "    print(\"VALUE ERROR ENCOUNTERED\")"
   ]
  },
  {
   "cell_type": "code",
   "execution_count": 3,
   "metadata": {},
   "outputs": [],
   "source": [
    "# 3. Write a Python program that opens a file and handles a FileNotFoundError exception if the file does not exist."
   ]
  },
  {
   "cell_type": "code",
   "execution_count": 6,
   "metadata": {},
   "outputs": [
    {
     "name": "stdout",
     "output_type": "stream",
     "text": [
      "FILE NOT FOUND ERROR ENCOUNTERED\n"
     ]
    }
   ],
   "source": [
    "try:\n",
    "    open(\"anudip.txt\")\n",
    "except FileNotFoundError as f:\n",
    "    print(\"FILE NOT FOUND ERROR ENCOUNTERED\")"
   ]
  },
  {
   "cell_type": "code",
   "execution_count": 7,
   "metadata": {},
   "outputs": [],
   "source": [
    "#4. Write a Python program that prompts the user to input two numbers and raises a TypeError exception if the inputs are not numerical"
   ]
  },
  {
   "cell_type": "code",
   "execution_count": 23,
   "metadata": {},
   "outputs": [
    {
     "name": "stdout",
     "output_type": "stream",
     "text": [
      "Invalid input. Please enter a numerical value.\n"
     ]
    },
    {
     "ename": "TypeError",
     "evalue": "Invalid input. Please enter a numerical value.",
     "output_type": "error",
     "traceback": [
      "\u001b[1;31m---------------------------------------------------------------------------\u001b[0m",
      "\u001b[1;31mValueError\u001b[0m                                Traceback (most recent call last)",
      "Cell \u001b[1;32mIn[23], line 6\u001b[0m\n\u001b[0;32m      5\u001b[0m \u001b[38;5;28;01mtry\u001b[39;00m:\n\u001b[1;32m----> 6\u001b[0m     num2 \u001b[38;5;241m=\u001b[39m \u001b[38;5;28;43mfloat\u001b[39;49m\u001b[43m(\u001b[49m\u001b[38;5;28;43minput\u001b[39;49m\u001b[43m(\u001b[49m\u001b[38;5;124;43m\"\u001b[39;49m\u001b[38;5;124;43mEnter the second number: \u001b[39;49m\u001b[38;5;124;43m\"\u001b[39;49m\u001b[43m)\u001b[49m\u001b[43m)\u001b[49m\n\u001b[0;32m      7\u001b[0m \u001b[38;5;28;01mexcept\u001b[39;00m \u001b[38;5;167;01mValueError\u001b[39;00m:\n",
      "\u001b[1;31mValueError\u001b[0m: could not convert string to float: 'fdf'",
      "\nDuring handling of the above exception, another exception occurred:\n",
      "\u001b[1;31mTypeError\u001b[0m                                 Traceback (most recent call last)",
      "Cell \u001b[1;32mIn[23], line 8\u001b[0m\n\u001b[0;32m      6\u001b[0m     num2 \u001b[38;5;241m=\u001b[39m \u001b[38;5;28mfloat\u001b[39m(\u001b[38;5;28minput\u001b[39m(\u001b[38;5;124m\"\u001b[39m\u001b[38;5;124mEnter the second number: \u001b[39m\u001b[38;5;124m\"\u001b[39m))\n\u001b[0;32m      7\u001b[0m \u001b[38;5;28;01mexcept\u001b[39;00m \u001b[38;5;167;01mValueError\u001b[39;00m:\n\u001b[1;32m----> 8\u001b[0m     \u001b[38;5;28;01mraise\u001b[39;00m \u001b[38;5;167;01mTypeError\u001b[39;00m(\u001b[38;5;124m\"\u001b[39m\u001b[38;5;124mInvalid input. Please enter a numerical value.\u001b[39m\u001b[38;5;124m\"\u001b[39m)\n",
      "\u001b[1;31mTypeError\u001b[0m: Invalid input. Please enter a numerical value."
     ]
    }
   ],
   "source": [
    "\n",
    "try:\n",
    "    num1 = float(input(\"Enter the first number: \"))\n",
    "except ValueError:\n",
    "    raise TypeError(\"Invalid input. Please enter a numerical value.\")\n",
    "try:\n",
    "    num2 = float(input(\"Enter the second number: \"))\n",
    "except ValueError:\n",
    "    raise TypeError(\"Invalid input. Please enter a numerical value.\")\n"
   ]
  }
 ],
 "metadata": {
  "kernelspec": {
   "display_name": "Python 3",
   "language": "python",
   "name": "python3"
  },
  "language_info": {
   "codemirror_mode": {
    "name": "ipython",
    "version": 3
   },
   "file_extension": ".py",
   "mimetype": "text/x-python",
   "name": "python",
   "nbconvert_exporter": "python",
   "pygments_lexer": "ipython3",
   "version": "3.11.9"
  }
 },
 "nbformat": 4,
 "nbformat_minor": 2
}
