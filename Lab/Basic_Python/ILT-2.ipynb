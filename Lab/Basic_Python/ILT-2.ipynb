{
 "cells": [
  {
   "cell_type": "code",
   "execution_count": 1,
   "metadata": {},
   "outputs": [
    {
     "name": "stdout",
     "output_type": "stream",
     "text": [
      "2023 is not a leap year.\n"
     ]
    }
   ],
   "source": [
    "# Get the year from the user\n",
    "year = int(input(\"Enter a year: \"))\n",
    "\n",
    "# Check if the year is a leap year\n",
    "if year % 4 == 0:\n",
    "    if year % 100 == 0:\n",
    "        if year % 400 == 0:\n",
    "            print(f\"{year} is a leap year.\")\n",
    "        else:\n",
    "            print(f\"{year} is not a leap year.\")\n",
    "    else:\n",
    "        print(f\"{year} is a leap year.\")\n",
    "else:\n",
    "    print(f\"{year} is not a leap year.\")"
   ]
  },
  {
   "cell_type": "code",
   "execution_count": 2,
   "metadata": {},
   "outputs": [
    {
     "name": "stdout",
     "output_type": "stream",
     "text": [
      "The largest number is: 45\n"
     ]
    }
   ],
   "source": [
    "# Get the three numbers from the user\n",
    "num1 = int(input(\"Enter the first number: \"))\n",
    "num2 = int(input(\"Enter the second number: \"))\n",
    "num3 = int(input(\"Enter the third number: \"))\n",
    "\n",
    "# Find the largest number\n",
    "if num1 >= num2 and num1 >= num3:\n",
    "    largest = num1\n",
    "elif num2 >= num1 and num2 >= num3:\n",
    "    largest = num2\n",
    "else:\n",
    "    largest = num3\n",
    "\n",
    "# Print the largest number\n",
    "print(f\"The largest number is: {largest}\")"
   ]
  },
  {
   "cell_type": "code",
   "execution_count": 4,
   "metadata": {},
   "outputs": [
    {
     "name": "stdout",
     "output_type": "stream",
     "text": [
      "-5 is a negative number.\n"
     ]
    }
   ],
   "source": [
    "# Get the number from the user\n",
    "num = int(input(\"Enter a number: \"))\n",
    "\n",
    "# Check if the number is positive, negative, or 0\n",
    "if num > 0:\n",
    "    print(f\"{num} is a positive number.\")\n",
    "elif num < 0:\n",
    "    print(f\"{num} is a negative number.\")\n",
    "else:\n",
    "    print(f\"{num} is zero.\")"
   ]
  },
  {
   "cell_type": "code",
   "execution_count": 5,
   "metadata": {},
   "outputs": [
    {
     "name": "stdout",
     "output_type": "stream",
     "text": [
      "Net amount to pay: Rs. 4275.00\n",
      "Discount: Rs. 225.00\n"
     ]
    }
   ],
   "source": [
    "# Define the discount rules\n",
    "discount_rules = {\n",
    "    1: {\"min_amount\": 1000, \"discount\": 0.10},  # Battery Based Toys\n",
    "    2: {\"min_amount\": 100, \"discount\": 0.05},   # Key-based Toys\n",
    "    3: {\"min_amount\": 500, \"discount\": 0.10}    # Electrical Charging Based Toys\n",
    "}\n",
    "\n",
    "# Get the product code and order amount from the user\n",
    "product_code = int(input(\"Enter the product code (1/2/3): \"))\n",
    "order_amount = float(input(\"Enter the order amount: \"))\n",
    "\n",
    "# Check if the product code is valid\n",
    "if product_code not in discount_rules:\n",
    "    print(\"Invalid product code. Please try again.\")\n",
    "else:\n",
    "    # Calculate the discount\n",
    "    discount_rule = discount_rules[product_code]\n",
    "    if order_amount > discount_rule[\"min_amount\"]:\n",
    "        discount = order_amount * discount_rule[\"discount\"]\n",
    "    else:\n",
    "        discount = 0\n",
    "\n",
    "    # Calculate the net amount\n",
    "    net_amount = order_amount - discount\n",
    "\n",
    "    # Print the result\n",
    "    print(f\"Net amount to pay: Rs. {net_amount:.2f}\")\n",
    "    print(f\"Discount: Rs. {discount:.2f}\")"
   ]
  },
  {
   "cell_type": "code",
   "execution_count": 6,
   "metadata": {},
   "outputs": [
    {
     "name": "stdout",
     "output_type": "stream",
     "text": [
      "Fare: Rs. 1800.00\n"
     ]
    }
   ],
   "source": [
    "# Define the fare rules\n",
    "fare_rules = [\n",
    "    {\"min_distance\": 0, \"max_distance\": 50, \"fare_per_km\": 8},\n",
    "    {\"min_distance\": 51, \"max_distance\": 100, \"fare_per_km\": 10},\n",
    "    {\"min_distance\": 101, \"max_distance\": float(\"inf\"), \"fare_per_km\": 12}\n",
    "]\n",
    "\n",
    "# Get the distance from the user\n",
    "distance = float(input(\"Enter the distance traveled (in km): \"))\n",
    "\n",
    "# Calculate the fare\n",
    "fare = 0\n",
    "for rule in fare_rules:\n",
    "    if rule[\"min_distance\"] <= distance <= rule[\"max_distance\"]:\n",
    "        fare = distance * rule[\"fare_per_km\"]\n",
    "        break\n",
    "\n",
    "# Print the result\n",
    "print(f\"Fare: Rs. {fare:.2f}\")"
   ]
  },
  {
   "cell_type": "code",
   "execution_count": 7,
   "metadata": {},
   "outputs": [
    {
     "name": "stdout",
     "output_type": "stream",
     "text": [
      "Reversed number: 5\n"
     ]
    }
   ],
   "source": [
    "# Get the number from the user\n",
    "num = int(input(\"Enter a number: \"))\n",
    "\n",
    "# Initialize the reversed number\n",
    "reversed_num = 0\n",
    "\n",
    "# Use a while loop to reverse the number\n",
    "while num > 0:\n",
    "    digit = num % 10\n",
    "    reversed_num = reversed_num * 10 + digit\n",
    "    num //= 10\n",
    "\n",
    "# Print the reversed number\n",
    "print(\"Reversed number:\", reversed_num)"
   ]
  },
  {
   "cell_type": "code",
   "execution_count": 10,
   "metadata": {},
   "outputs": [
    {
     "name": "stdout",
     "output_type": "stream",
     "text": [
      "2112 is a palindrome.\n"
     ]
    }
   ],
   "source": [
    "# Get the number from the user\n",
    "num = int(input(\"Enter a number: \"))\n",
    "\n",
    "# Convert the number to a string to easily reverse it\n",
    "num_str = str(num)\n",
    "\n",
    "# Check if the number is a palindrome\n",
    "if num_str == num_str[::-1]:\n",
    "    print(f\"{num} is a palindrome.\")\n",
    "else:\n",
    "    print(f\"{num} is not a palindrome.\")\n",
    "    "
   ]
  },
  {
   "cell_type": "code",
   "execution_count": 12,
   "metadata": {},
   "outputs": [
    {
     "name": "stdout",
     "output_type": "stream",
     "text": [
      "The factorial of 4 is 24.\n"
     ]
    }
   ],
   "source": [
    "# Get the number from the user\n",
    "num = int(input(\"Enter a number: \"))\n",
    "\n",
    "# Initialize the factorial\n",
    "factorial = 1\n",
    "\n",
    "# Use a while loop to calculate the factorial\n",
    "i = 1\n",
    "while i <= num:\n",
    "    factorial *= i\n",
    "    i += 1\n",
    "\n",
    "# Print the factorial\n",
    "print(f\"The factorial of {num} is {factorial}.\")\n"
   ]
  },
  {
   "cell_type": "code",
   "execution_count": 13,
   "metadata": {},
   "outputs": [
    {
     "name": "stdout",
     "output_type": "stream",
     "text": [
      "The sum of all the numbers is: 174\n"
     ]
    }
   ],
   "source": [
    "# Initialize the sum to 0\n",
    "total_sum = 0\n",
    "\n",
    "# Use a while loop to accept numbers until the user enters 0\n",
    "while True:\n",
    "    num = int(input(\"Enter a number (0 to quit): \"))\n",
    "    if num == 0:\n",
    "        break\n",
    "    total_sum += num\n",
    "\n",
    "# Display the sum of all the numbers\n",
    "print(f\"The sum of all the numbers is: {total_sum}\")"
   ]
  },
  {
   "cell_type": "code",
   "execution_count": 14,
   "metadata": {},
   "outputs": [
    {
     "name": "stdout",
     "output_type": "stream",
     "text": [
      "1\n",
      "2\n",
      "3\n",
      "4\n",
      "5\n",
      "6\n",
      "7\n",
      "8\n",
      "9\n",
      "10\n"
     ]
    }
   ],
   "source": [
    "# Use a for loop to print the first 10 natural numbers\n",
    "for i in range(1, 11):\n",
    "    print(i)"
   ]
  },
  {
   "cell_type": "code",
   "execution_count": 16,
   "metadata": {},
   "outputs": [
    {
     "name": "stdout",
     "output_type": "stream",
     "text": [
      "'maam' is a palindrome.\n"
     ]
    }
   ],
   "source": [
    "input_str = input(\"Enter a string: \")\n",
    "input_str = input_str.lower()  # Convert to lowercase for case-insensitive comparison\n",
    "\n",
    "if input_str == input_str[::-1]:  # Compare the string with its reverse\n",
    "    print(f\"'{input_str}' is a palindrome.\")\n",
    "else:\n",
    "    print(f\"'{input_str}' is not a palindrome.\")"
   ]
  },
  {
   "cell_type": "code",
   "execution_count": 17,
   "metadata": {},
   "outputs": [
    {
     "name": "stdout",
     "output_type": "stream",
     "text": [
      "45 is not an Armstrong number.\n"
     ]
    }
   ],
   "source": [
    "num = int(input(\"Enter a number: \"))\n",
    "num_str = str(num)\n",
    "num_digits = len(num_str)\n",
    "sum_of_digits = sum(int(digit) ** num_digits for digit in num_str)\n",
    "\n",
    "if sum_of_digits == num:\n",
    "    print(f\"{num} is an Armstrong number.\")\n",
    "else:\n",
    "    print(f\"{num} is not an Armstrong number.\")"
   ]
  },
  {
   "cell_type": "code",
   "execution_count": 18,
   "metadata": {},
   "outputs": [
    {
     "name": "stdout",
     "output_type": "stream",
     "text": [
      "Fibonacci series between 0 to 50:\n",
      "0 1 1 2 3 5 8 13 21 34 "
     ]
    }
   ],
   "source": [
    "a, b = 0, 1\n",
    "print(\"Fibonacci series between 0 to 50:\")\n",
    "while a <= 50:\n",
    "    print(a, end=\" \")\n",
    "    a, b = b, a + b"
   ]
  },
  {
   "cell_type": "code",
   "execution_count": 20,
   "metadata": {},
   "outputs": [
    {
     "name": "stdout",
     "output_type": "stream",
     "text": [
      "Password is not valid. It should have at least one uppercase letter.\n"
     ]
    }
   ],
   "source": [
    "password = input(\"Enter a password: \")\n",
    "\n",
    "if len(password) < 8:\n",
    "    print(\"Password is not valid. It should be at least 8 characters long.\")\n",
    "elif not any(char.isupper() for char in password):\n",
    "    print(\"Password is not valid. It should have at least one uppercase letter.\")\n",
    "elif not any(char.islower() for char in password):\n",
    "    print(\"Password is not valid. It should have at least one lowercase letter.\")\n",
    "elif not any(char.isdigit() for char in password):\n",
    "    print(\"Password is not valid. It should have at least one digit.\")\n",
    "elif not any(not char.isalnum() for char in password):\n",
    "    print(\"Password is not valid. It should have at least one special character.\")\n",
    "else:\n",
    "    print(\"Password is valid.\")"
   ]
  },
  {
   "cell_type": "code",
   "execution_count": null,
   "metadata": {},
   "outputs": [],
   "source": []
  }
 ],
 "metadata": {
  "kernelspec": {
   "display_name": "Python 3",
   "language": "python",
   "name": "python3"
  },
  "language_info": {
   "codemirror_mode": {
    "name": "ipython",
    "version": 3
   },
   "file_extension": ".py",
   "mimetype": "text/x-python",
   "name": "python",
   "nbconvert_exporter": "python",
   "pygments_lexer": "ipython3",
   "version": "3.12.4"
  }
 },
 "nbformat": 4,
 "nbformat_minor": 2
}
