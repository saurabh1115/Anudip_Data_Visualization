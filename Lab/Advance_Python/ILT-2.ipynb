{
 "cells": [
  {
   "cell_type": "code",
   "execution_count": 1,
   "metadata": {},
   "outputs": [
    {
     "name": "stdout",
     "output_type": "stream",
     "text": [
      "Hot Days\n",
      "Days\n",
      "[ 3  6 10]\n",
      "temperatures\n",
      "[36.8 38.7 37.2]\n",
      "cold Days\n",
      "Days\n",
      "[]\n",
      "temperatures\n",
      "[]\n"
     ]
    }
   ],
   "source": [
    "# 1. Find days where the temperature either exceeded 35 degrees Celsius (hot day) or dropped below 5 degrees Celsius (cold day).\n",
    "import numpy as np\n",
    "temperatures = np.array([32.5, 34.2, 36.8, 29.3, 31.0, 38.7, 23.1, 18.5, 22.8, 37.2])\n",
    "hot_days = temperatures > 35\n",
    "cold_days = temperatures < 5\n",
    "extreme_days = hot_days\n",
    "extreme_temperatures = temperatures[extreme_days]\n",
    "extreme_indices = np.where(extreme_days)[0]\n",
    "cold_temperatures = temperatures[cold_days]\n",
    "cold_indices = np.where(cold_days)[0]\n",
    "print(\"Hot Days\")\n",
    "print(\"Days\")\n",
    "print(extreme_indices+1)\n",
    "print(\"temperatures\")\n",
    "print(extreme_temperatures)\n",
    "print(\"cold Days\")\n",
    "print(\"Days\")\n",
    "print(cold_indices+1)\n",
    "print(\"temperatures\")\n",
    "print(cold_temperatures)"
   ]
  },
  {
   "cell_type": "code",
   "execution_count": 2,
   "metadata": {},
   "outputs": [
    {
     "name": "stdout",
     "output_type": "stream",
     "text": [
      "Quarter 1 sales:\n",
      " [120 135 148]\n",
      "Quarter 2 sales:\n",
      " [165 180 155]\n",
      "Quarter 3 sales:\n",
      " [168 190 205]\n",
      "Quarter 4 sales:\n",
      " [198 210 225]\n"
     ]
    }
   ],
   "source": [
    "# 2. split this data into quarterly reports for analysis and reporting purposes.\n",
    "monthly_sales = np.array([120, 135, 148, 165, 180, 155, 168, 190, 205, 198, 210, 225])\n",
    "quarters = monthly_sales.reshape(4,3)\n",
    "for i,quarter in enumerate(quarters,start=1):\n",
    "    print(f\"Quarter {i} sales:\\n {quarter}\")"
   ]
  },
  {
   "cell_type": "code",
   "execution_count": 3,
   "metadata": {},
   "outputs": [
    {
     "name": "stdout",
     "output_type": "stream",
     "text": [
      "Active customers ( last purchase <= 30 days ago):\n",
      " [101 102 103 104 105]\n",
      "Inactive customers ( last purchase > 30 days ago):\n",
      " [106 107 108 109 110]\n"
     ]
    }
   ],
   "source": [
    "# 3. split this data into two groups: one group for customers who made a purchase in the last 30 days and another group for customers who haven't made a purchase in the last 30 days.\n",
    "customer_ids = np.array([101,102,103,104,105,106,107,108,109,110])\n",
    "last_purchase_days_ago = np.array([5,15,20,25,30,35,40,45,50,55])\n",
    "recent_customers = customer_ids[last_purchase_days_ago <= 30]\n",
    "inactive_customers = customer_ids[last_purchase_days_ago > 30]\n",
    "print(\"Active customers ( last purchase <= 30 days ago):\\n\", recent_customers)\n",
    "print(\"Inactive customers ( last purchase > 30 days ago):\\n\", inactive_customers)"
   ]
  },
  {
   "cell_type": "code",
   "execution_count": 3,
   "metadata": {},
   "outputs": [
    {
     "name": "stdout",
     "output_type": "stream",
     "text": [
      "[['101' 'John Doe' 'Full-Time' '55000']\n",
      " ['102' 'Jane Smith' 'Full-Time' '60000']\n",
      " ['103' 'Mike Johnson' 'Full-Time' '52000']\n",
      " ['201' 'Alice Brown' 'Part-Time' '25000']\n",
      " ['202' 'Bob Wilson' 'Part-Time' '28000']\n",
      " ['203' 'Emily Davis' 'Part-Time' '22000']]\n"
     ]
    }
   ],
   "source": [
    "# 4. combine this data to create a comprehensive employee dataset for HR analysis.\n",
    "import numpy as np\n",
    "full_time_employees = np.array([\n",
    "[101, 'John Doe', 'Full-Time', 55000],\n",
    "[102, 'Jane Smith', 'Full-Time', 60000],\n",
    "[103, 'Mike Johnson', 'Full-Time', 52000]\n",
    "])\n",
    "part_time_employees = np.array([\n",
    "[201, 'Alice Brown', 'Part-Time', 25000],\n",
    "[202, 'Bob Wilson', 'Part-Time', 28000],\n",
    "[203, 'Emily Davis', 'Part-Time', 22000]\n",
    "])\n",
    "result = np.concatenate((full_time_employees,part_time_employees),axis=0)\n",
    "print(result)"
   ]
  },
  {
   "cell_type": "code",
   "execution_count": 13,
   "metadata": {},
   "outputs": [
    {
     "name": "stdout",
     "output_type": "stream",
     "text": [
      "mean of  [3 2 8 9] :  5.5\n",
      "mean of  [ 4 12 34 25 78] :  30.6\n",
      "mean of  [23 12 67] :  34.0\n"
     ]
    }
   ],
   "source": [
    "# 5. find the mean of every NumPy array in the given list\n",
    "import numpy as np\n",
    "list = [\n",
    "np.array([3, 2, 8, 9]),\n",
    "np.array([4, 12, 34, 25, 78]),\n",
    "np.array([23, 12, 67])\n",
    "]\n",
    "for arr in list:\n",
    "    mean = np.mean(arr)\n",
    "    print(\"mean of \",arr,\": \",mean)"
   ]
  },
  {
   "cell_type": "code",
   "execution_count": 9,
   "metadata": {},
   "outputs": [
    {
     "name": "stdout",
     "output_type": "stream",
     "text": [
      "median :  4.0\n"
     ]
    }
   ],
   "source": [
    "# 6. Compute the median of the flattened NumPy array\n",
    "import numpy as np\n",
    "x_odd = np.array([1, 2, 3, 4, 5, 6, 7])\n",
    "median = np.median(x_odd)\n",
    "print(\"median : \",median)"
   ]
  },
  {
   "cell_type": "code",
   "execution_count": 7,
   "metadata": {},
   "outputs": [
    {
     "name": "stdout",
     "output_type": "stream",
     "text": [
      "standard deviation :  12.576167937809991\n"
     ]
    }
   ],
   "source": [
    "# 7. Compute the standard deviation of the NumPy array\n",
    "import numpy as np\n",
    "arr = [20, 2, 7, 1, 34]\n",
    "SD = np.std(arr)\n",
    "print(\"standard deviation : \",SD)"
   ]
  },
  {
   "cell_type": "code",
   "execution_count": 14,
   "metadata": {},
   "outputs": [
    {
     "name": "stdout",
     "output_type": "stream",
     "text": [
      "Average Price: 317857.14285714284\n",
      "High Prices: [400000 350000 500000]\n"
     ]
    }
   ],
   "source": [
    "# 8. Suppose you have a CSV file named 'house_prices.csv' with price information, and you want to perform the following operations:\n",
    "import numpy as np\n",
    "import pandas as pd\n",
    "\n",
    "# 8.1. Read the data from the CSV file into a NumPy array\n",
    "df = pd.read_csv('house_prices.csv')\n",
    "prices = df['price'].to_numpy()\n",
    "\n",
    "# 8.2. Calculate the average of house prices\n",
    "average_price = np.mean(prices)\n",
    "\n",
    "# 8.3. Identify house prices above the average\n",
    "high_prices = prices[prices > average_price]\n",
    "\n",
    "# 8.4. Save the list of high prices to a new CSV file\n",
    "high_prices_df = pd.DataFrame(high_prices, columns=['High Price'])\n",
    "high_prices_df.to_csv('high_prices.csv', index=False)\n",
    "\n",
    "print(\"Average Price:\", average_price)\n",
    "print(\"High Prices:\", high_prices)\n"
   ]
  }
 ],
 "metadata": {
  "kernelspec": {
   "display_name": "Python 3",
   "language": "python",
   "name": "python3"
  },
  "language_info": {
   "codemirror_mode": {
    "name": "ipython",
    "version": 3
   },
   "file_extension": ".py",
   "mimetype": "text/x-python",
   "name": "python",
   "nbconvert_exporter": "python",
   "pygments_lexer": "ipython3",
   "version": "3.12.3"
  }
 },
 "nbformat": 4,
 "nbformat_minor": 2
}
