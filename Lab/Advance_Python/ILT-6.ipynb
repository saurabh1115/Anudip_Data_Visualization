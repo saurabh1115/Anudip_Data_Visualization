{
 "cells": [
  {
   "cell_type": "markdown",
   "id": "332ce190-e6a0-438a-838b-a6903d3fc778",
   "metadata": {},
   "source": [
    "# Lab1 \n",
    "Suppose you are a teacher, and you want to analyze the exam scores of your\n",
    "students in a particular subject. You have recorded the scores of your students for a\n",
    "recent exam, and you want to represent this data using a Pandas Series.\n",
    "# Input:\n",
    "students = ['Alice', 'Bob', 'Charlie', 'David', 'Eve', 'Frank', 'Grace', 'Hannah', 'Ivy', 'Jack']\n",
    "exam_scores = [92, 88, 76, 94, 82, 90, 85, 89, 78, 91]"
   ]
  },
  {
   "cell_type": "code",
   "execution_count": 5,
   "id": "101fc831-dd68-4026-86c9-a76bce46a1f9",
   "metadata": {},
   "outputs": [
    {
     "name": "stdout",
     "output_type": "stream",
     "text": [
      "Alice      92\n",
      "Bob        88\n",
      "Charlie    76\n",
      "David      94\n",
      "Eve        82\n",
      "Frank      90\n",
      "Grace      85\n",
      "Hannah     89\n",
      "Ivy        78\n",
      "Jack       91\n",
      "dtype: int64\n"
     ]
    }
   ],
   "source": [
    "import pandas as pd\n",
    "\n",
    "# Data\n",
    "students = ['Alice', 'Bob', 'Charlie', 'David', 'Eve', 'Frank', 'Grace', 'Hannah', 'Ivy', 'Jack']\n",
    "exam_scores = [92, 88, 76, 94, 82, 90, 85, 89, 78, 91]\n",
    "\n",
    "# Create the Pandas Series\n",
    "scores_series = pd.Series(exam_scores, index=students)\n",
    "\n",
    "# Print the Pandas Series\n",
    "print(scores_series)\n"
   ]
  },
  {
   "cell_type": "markdown",
   "id": "00d744e5-0d34-4669-9c93-52afb7438c4f",
   "metadata": {},
   "source": [
    "# Lab2\n",
    "Suppose you want to track and analyze your household expenses for a month.\n",
    "You have recorded the expenses for various categories, such as groceries, utilities, rent,\n",
    "transportation, and entertainment. You can represent this expense data using a Pandas\n",
    "Series.\n",
    "# Input:\n",
    "categories = ['Groceries', 'Utilities', 'Rent',\n",
    "'Transportation', 'Entertainment']\n",
    "expenses = [500, 200, 1200, 300, 150]"
   ]
  },
  {
   "cell_type": "code",
   "execution_count": 6,
   "id": "f1eb4aac-7c59-4af1-bcd1-148c3eda47b1",
   "metadata": {},
   "outputs": [
    {
     "name": "stdout",
     "output_type": "stream",
     "text": [
      "Groceries          500\n",
      "Utilities          200\n",
      "Rent              1200\n",
      "Transportation     300\n",
      "Entertainment      150\n",
      "dtype: int64\n"
     ]
    }
   ],
   "source": [
    "import pandas as pd\n",
    "\n",
    "# Data\n",
    "categories = ['Groceries', 'Utilities', 'Rent', 'Transportation', 'Entertainment']\n",
    "expenses = [500, 200, 1200, 300, 150]\n",
    "\n",
    "# Create the Pandas Series\n",
    "expenses_series = pd.Series(expenses, index=categories)\n",
    "\n",
    "# Print the Pandas Series\n",
    "print(expenses_series)\n"
   ]
  },
  {
   "cell_type": "markdown",
   "id": "b97ea221-2804-4c4c-aeba-0bffe96215ba",
   "metadata": {},
   "source": [
    "# Lab3 \n",
    "Suppose you want to track and analyze the monthly energy consumption in your\n",
    "home. You have recorded the monthly energy usage for electricity and gas over a year,\n",
    "and you want to represent this data using Pandas Series.\n",
    "Input:\n",
    "# Input\n",
    "months = ['January', 'February', 'March', 'April', 'May', 'June', 'July', 'August',\n",
    "'September', 'October', 'November', 'December']\n",
    "electricity_usage = [350, 320, 310, 330, 340, 370, 380, 360, 350, 330, 320, 330]\n",
    "gas_usage = [20, 18, 16, 15, 12, 10, 8, 9, 12, 15, 17, 19]\n",
    "Output:"
   ]
  },
  {
   "cell_type": "code",
   "execution_count": 7,
   "id": "1d9ecf44-3f0b-4884-9eb0-282df2637ef6",
   "metadata": {},
   "outputs": [
    {
     "name": "stdout",
     "output_type": "stream",
     "text": [
      "Electricity Usage:\n",
      "January      350\n",
      "February     320\n",
      "March        310\n",
      "April        330\n",
      "May          340\n",
      "June         370\n",
      "July         380\n",
      "August       360\n",
      "September    350\n",
      "October      330\n",
      "November     320\n",
      "December     330\n",
      "Name: Electricity Usage (kWh), dtype: int64\n",
      "\n",
      "Gas Usage:\n",
      "January      20\n",
      "February     18\n",
      "March        16\n",
      "April        15\n",
      "May          12\n",
      "June         10\n",
      "July          8\n",
      "August        9\n",
      "September    12\n",
      "October      15\n",
      "November     17\n",
      "December     19\n",
      "Name: Gas Usage (therms), dtype: int64\n"
     ]
    }
   ],
   "source": [
    "import pandas as pd\n",
    "\n",
    "# Data\n",
    "months = ['January', 'February', 'March', 'April', 'May', 'June', 'July', 'August', \n",
    "          'September', 'October', 'November', 'December']\n",
    "electricity_usage = [350, 320, 310, 330, 340, 370, 380, 360, 350, 330, 320, 330]\n",
    "gas_usage = [20, 18, 16, 15, 12, 10, 8, 9, 12, 15, 17, 19]\n",
    "\n",
    "# Create Pandas Series\n",
    "electricity_series = pd.Series(electricity_usage, index=months, name='Electricity Usage (kWh)')\n",
    "gas_series = pd.Series(gas_usage, index=months, name='Gas Usage (therms)')\n",
    "\n",
    "# Print the Pandas Series\n",
    "print(\"Electricity Usage:\")\n",
    "print(electricity_series)\n",
    "print(\"\\nGas Usage:\")\n",
    "print(gas_series)\n"
   ]
  },
  {
   "cell_type": "markdown",
   "id": "42ac707c-c8c3-42a7-ac19-f57871063c33",
   "metadata": {},
   "source": [
    "# Lab4\n",
    "Suppose you are managing a website and want to analyze the monthly revenue\n",
    "generated from advertising. You have recorded the monthly revenue for the past year,\n",
    "and you want to represent this data using a Pandas Series.\n",
    "Input:\n",
    "# Input:\n",
    "months = ['January', 'February', 'March', 'April', 'May', 'June', 'July', 'August',\n",
    "'September', 'October', 'November', 'December']\n",
    "revenue = [5000, 5200, 4800, 5400, 5600, 5800, 6100, 5900, 6200, 6500, 7000, 6900]"
   ]
  },
  {
   "cell_type": "code",
   "execution_count": 8,
   "id": "aec10b3e-3cc5-4777-a657-3eeafd50c59f",
   "metadata": {},
   "outputs": [
    {
     "name": "stdout",
     "output_type": "stream",
     "text": [
      "January      5000\n",
      "February     5200\n",
      "March        4800\n",
      "April        5400\n",
      "May          5600\n",
      "June         5800\n",
      "July         6100\n",
      "August       5900\n",
      "September    6200\n",
      "October      6500\n",
      "November     7000\n",
      "December     6900\n",
      "Name: Monthly Revenue (USD), dtype: int64\n"
     ]
    }
   ],
   "source": [
    "import pandas as pd\n",
    "\n",
    "# Data\n",
    "months = ['January', 'February', 'March', 'April', 'May', 'June', 'July', 'August',\n",
    "          'September', 'October', 'November', 'December']\n",
    "revenue = [5000, 5200, 4800, 5400, 5600, 5800, 6100, 5900, 6200, 6500, 7000, 6900]\n",
    "\n",
    "# Create Pandas Series\n",
    "revenue_series = pd.Series(revenue, index=months, name='Monthly Revenue (USD)')\n",
    "\n",
    "# Print the Pandas Series\n",
    "print(revenue_series)\n"
   ]
  }
 ],
 "metadata": {
  "kernelspec": {
   "display_name": "Python 3 (ipykernel)",
   "language": "python",
   "name": "python3"
  },
  "language_info": {
   "codemirror_mode": {
    "name": "ipython",
    "version": 3
   },
   "file_extension": ".py",
   "mimetype": "text/x-python",
   "name": "python",
   "nbconvert_exporter": "python",
   "pygments_lexer": "ipython3",
   "version": "3.12.3"
  }
 },
 "nbformat": 4,
 "nbformat_minor": 5
}
