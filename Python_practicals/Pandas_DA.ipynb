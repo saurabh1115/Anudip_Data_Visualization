{
 "cells": [
  {
   "cell_type": "code",
   "execution_count": 2,
   "metadata": {},
   "outputs": [
    {
     "name": "stdout",
     "output_type": "stream",
     "text": [
      "Sample Data:\n",
      "   Transaction_ID  Age  Referal  Amount_spent\n",
      "0          152443   45        1       1200.45\n",
      "1          151244   47        0       1341.44\n",
      "2          153071   60        1       1500.67\n",
      "3          153699   32        1        250.50\n",
      "4          151200   78        1       2999.98\n",
      "5          152000   55        0       1899.99\n",
      "6          151800   25        0       2045.56\n"
     ]
    }
   ],
   "source": [
    "import pandas as pd\n",
    "\n",
    "# Sample dataset\n",
    "data = {\n",
    "    'Transaction_ID': [152443, 151244, 153071, 153699, 151200, 152000, 151800],\n",
    "    'Age': [45, 47, 60, 32, 78, 55, 25],\n",
    "    'Referal': [1, 0, 1, 1, 1, 0, 0],\n",
    "    'Amount_spent': [1200.45, 1341.44, 1500.67, 250.50, 2999.98, 1899.99, 2045.56]\n",
    "}\n",
    "\n",
    "# Convert the data dictionary into a DataFrame\n",
    "df = pd.DataFrame(data)\n",
    "\n",
    "# Save the DataFrame to a CSV file\n",
    "df.to_csv('students_data.csv', index=False)\n",
    "\n",
    "# Print the data\n",
    "print(\"Sample Data:\")\n",
    "print(df)"
   ]
  },
  {
   "cell_type": "code",
   "execution_count": 3,
   "metadata": {},
   "outputs": [
    {
     "name": "stdout",
     "output_type": "stream",
     "text": [
      " Mean of Age : 48.857142857142854\n",
      " Median of Age : 47.0\n",
      " Mode of Age : 25\n",
      " Standard deviation of Age : 17.71\n",
      " Maximum of Age : 78\n",
      " Minimum of Age : 25\n"
     ]
    }
   ],
   "source": [
    "# Calculating Basic statistical measurement\n",
    "\n",
    "import pandas as pd\n",
    "# Provide the path to your CSV file\n",
    "csv_file_path = 'students_data.csv' # Replace with the actual path to your CSV file\n",
    "# Use read_csv to read the data from the CSV file into a DataFrame\n",
    "df = pd.read_csv('students_data.csv')\n",
    "# Calculate Mean\n",
    "mean = df['Age'].mean()\n",
    "# Calculate Median\n",
    "median = df['Age'].median()\n",
    "#Calculate Mode\n",
    "mode = df['Age'].mode().iloc[0]\n",
    "# Calculate standard deviation\n",
    "std = df['Age'].std()\n",
    "# Calculate Minimum values\n",
    "minimum = df['Age'].min()\n",
    "# Calculate Maximum values\n",
    "maximum = df.Age.max()\n",
    "print(f\" Mean of Age : {mean}\")\n",
    "print(f\" Median of Age : {median}\")\n",
    "print(f\" Mode of Age : {mode}\")\n",
    "print(f\" Standard deviation of Age : {std:.2f}\")\n",
    "print(f\" Maximum of Age : {maximum}\")\n",
    "print(f\" Minimum of Age : {minimum}\")"
   ]
  },
  {
   "cell_type": "code",
   "execution_count": 4,
   "metadata": {},
   "outputs": [
    {
     "name": "stdout",
     "output_type": "stream",
     "text": [
      "                count           mean         std       min         25%  \\\n",
      "Transaction_ID    7.0  152208.142857  928.992542  151200.0  151522.000   \n",
      "Age               7.0      48.857143   17.714670      25.0      38.500   \n",
      "Referal           7.0       0.571429    0.534522       0.0       0.000   \n",
      "Amount_spent      7.0    1605.512857  847.128399     250.5    1270.945   \n",
      "\n",
      "                      50%         75%        max  \n",
      "Transaction_ID  152000.00  152757.000  153699.00  \n",
      "Age                 47.00      57.500      78.00  \n",
      "Referal              1.00       1.000       1.00  \n",
      "Amount_spent      1500.67    1972.775    2999.98  \n"
     ]
    }
   ],
   "source": [
    "print(df.describe().T)"
   ]
  },
  {
   "cell_type": "code",
   "execution_count": 5,
   "metadata": {},
   "outputs": [
    {
     "name": "stdout",
     "output_type": "stream",
     "text": [
      "Correlation between Hours Studied and Exam Scores: 1.0\n"
     ]
    }
   ],
   "source": [
    "# Calculate the correlation\n",
    "\n",
    "data = {\n",
    "'Hours Studied': [1, 2, 3, 4, 5, 6, 7, 8, 9, 10],\n",
    "'Exam Scores': [50, 55, 60, 65, 70, 75, 80, 85, 90, 95]\n",
    "}\n",
    "df = pd.DataFrame(data)\n",
    "\n",
    "correlation = df['Hours Studied'].corr(df['Exam Scores'])\n",
    "print(\"Correlation between Hours Studied and Exam Scores:\", correlation)"
   ]
  },
  {
   "cell_type": "code",
   "execution_count": 11,
   "metadata": {},
   "outputs": [
    {
     "name": "stdout",
     "output_type": "stream",
     "text": [
      "7\n"
     ]
    }
   ],
   "source": [
    "# Printing the number of Unique values\n",
    "\n",
    "import pandas as pd\n",
    "csv_file_path = 'students_data.csv' \n",
    "df = pd.read_csv(csv_file_path)\n",
    "\n",
    "print(df['Age'].nunique())"
   ]
  },
  {
   "cell_type": "code",
   "execution_count": 13,
   "metadata": {},
   "outputs": [
    {
     "name": "stdout",
     "output_type": "stream",
     "text": [
      "[45 47 60 32 78 55 25]\n"
     ]
    }
   ],
   "source": [
    "# printing all the unique values\n",
    "\n",
    "print(df['Age'].unique())"
   ]
  },
  {
   "cell_type": "code",
   "execution_count": 15,
   "metadata": {},
   "outputs": [
    {
     "name": "stdout",
     "output_type": "stream",
     "text": [
      "Referal\n",
      "1    4\n",
      "0    3\n",
      "Name: count, dtype: int64\n",
      "Referal\n",
      "1    0.571429\n",
      "0    0.428571\n",
      "Name: proportion, dtype: float64\n"
     ]
    }
   ],
   "source": [
    "# count of all the unique values and its %\n",
    "\n",
    "print(df['Referal'].value_counts())\n",
    "print(df['Referal'].value_counts(normalize=True))"
   ]
  },
  {
   "cell_type": "code",
   "execution_count": 18,
   "metadata": {},
   "outputs": [
    {
     "name": "stdout",
     "output_type": "stream",
     "text": [
      "youngest :\n",
      "\n",
      "   Transaction_ID  Age  Referal  Amount_spent\n",
      "6          151800   25        0       2045.56\n",
      "3          153699   32        1        250.50\n",
      "0          152443   45        1       1200.45\n",
      "oldest :\n",
      "\n",
      "   Transaction_ID  Age  Referal  Amount_spent\n",
      "4          151200   78        1       2999.98\n",
      "2          153071   60        1       1500.67\n",
      "5          152000   55        0       1899.99\n"
     ]
    }
   ],
   "source": [
    "# sort values by a specific column\n",
    "\n",
    "print(\"youngest :\\n\")\n",
    "print(df.sort_values(by=['Age']).head(3))\n",
    "print(\"oldest :\\n\")\n",
    "print(df.sort_values(by=['Age'],ascending=False).head(3))\n"
   ]
  },
  {
   "cell_type": "code",
   "execution_count": 19,
   "metadata": {},
   "outputs": [
    {
     "name": "stdout",
     "output_type": "stream",
     "text": [
      "   Transaction_ID  Age  Referal  Amount_spent\n",
      "4          151200   78        1       2999.98\n",
      "6          151800   25        0       2045.56\n",
      "5          152000   55        0       1899.99\n",
      "2          153071   60        1       1500.67\n"
     ]
    }
   ],
   "source": [
    "# display the largest values\n",
    "\n",
    "print(df.nlargest(4, 'Amount_spent'))"
   ]
  },
  {
   "cell_type": "code",
   "execution_count": 20,
   "metadata": {},
   "outputs": [
    {
     "name": "stdout",
     "output_type": "stream",
     "text": [
      "   Transaction_ID  Age  Referal  Amount_spent\n",
      "3          153699   32        1        250.50\n",
      "0          152443   45        1       1200.45\n",
      "1          151244   47        0       1341.44\n",
      "2          153071   60        1       1500.67\n"
     ]
    }
   ],
   "source": [
    "# display the smallest values\n",
    "\n",
    "print(df.nsmallest(4, 'Amount_spent'))"
   ]
  },
  {
   "cell_type": "code",
   "execution_count": 22,
   "metadata": {},
   "outputs": [
    {
     "data": {
      "text/html": [
       "<div>\n",
       "<style scoped>\n",
       "    .dataframe tbody tr th:only-of-type {\n",
       "        vertical-align: middle;\n",
       "    }\n",
       "\n",
       "    .dataframe tbody tr th {\n",
       "        vertical-align: top;\n",
       "    }\n",
       "\n",
       "    .dataframe thead th {\n",
       "        text-align: right;\n",
       "    }\n",
       "</style>\n",
       "<table border=\"1\" class=\"dataframe\">\n",
       "  <thead>\n",
       "    <tr style=\"text-align: right;\">\n",
       "      <th></th>\n",
       "      <th>Transaction_ID</th>\n",
       "      <th>Age</th>\n",
       "      <th>Referal</th>\n",
       "      <th>Amount_spent</th>\n",
       "    </tr>\n",
       "  </thead>\n",
       "  <tbody>\n",
       "    <tr>\n",
       "      <th>0</th>\n",
       "      <td>152443</td>\n",
       "      <td>45</td>\n",
       "      <td>1</td>\n",
       "      <td>1200.45</td>\n",
       "    </tr>\n",
       "    <tr>\n",
       "      <th>2</th>\n",
       "      <td>153071</td>\n",
       "      <td>60</td>\n",
       "      <td>1</td>\n",
       "      <td>1500.67</td>\n",
       "    </tr>\n",
       "    <tr>\n",
       "      <th>3</th>\n",
       "      <td>153699</td>\n",
       "      <td>32</td>\n",
       "      <td>1</td>\n",
       "      <td>250.50</td>\n",
       "    </tr>\n",
       "    <tr>\n",
       "      <th>4</th>\n",
       "      <td>151200</td>\n",
       "      <td>78</td>\n",
       "      <td>1</td>\n",
       "      <td>2999.98</td>\n",
       "    </tr>\n",
       "  </tbody>\n",
       "</table>\n",
       "</div>"
      ],
      "text/plain": [
       "   Transaction_ID  Age  Referal  Amount_spent\n",
       "0          152443   45        1       1200.45\n",
       "2          153071   60        1       1500.67\n",
       "3          153699   32        1        250.50\n",
       "4          151200   78        1       2999.98"
      ]
     },
     "execution_count": 22,
     "metadata": {},
     "output_type": "execute_result"
    }
   ],
   "source": [
    "# Conditional queries on Data\n",
    "\n",
    "condition = df['Referal'] == 1\n",
    "df[condition].head(4)"
   ]
  },
  {
   "cell_type": "code",
   "execution_count": 23,
   "metadata": {},
   "outputs": [
    {
     "name": "stdout",
     "output_type": "stream",
     "text": [
      "   Transaction_ID  Age  Referal  Amount_spent\n",
      "2          153071   60        1       1500.67\n",
      "4          151200   78        1       2999.98\n"
     ]
    }
   ],
   "source": [
    "# Multiple Conditional queries on Data\n",
    "\n",
    "Age = df['Age'] > 50\n",
    "Referal = df['Referal'] == 1\n",
    "Amount_spent = df['Amount_spent'] > 1000\n",
    "\n",
    "print(df[Age & Referal & Amount_spent].head(3))"
   ]
  },
  {
   "cell_type": "code",
   "execution_count": 24,
   "metadata": {},
   "outputs": [
    {
     "data": {
      "text/html": [
       "<div>\n",
       "<style scoped>\n",
       "    .dataframe tbody tr th:only-of-type {\n",
       "        vertical-align: middle;\n",
       "    }\n",
       "\n",
       "    .dataframe tbody tr th {\n",
       "        vertical-align: top;\n",
       "    }\n",
       "\n",
       "    .dataframe thead th {\n",
       "        text-align: right;\n",
       "    }\n",
       "</style>\n",
       "<table border=\"1\" class=\"dataframe\">\n",
       "  <thead>\n",
       "    <tr style=\"text-align: right;\">\n",
       "      <th></th>\n",
       "      <th>Age</th>\n",
       "      <th>Amount_spent</th>\n",
       "    </tr>\n",
       "    <tr>\n",
       "      <th>Referal</th>\n",
       "      <th></th>\n",
       "      <th></th>\n",
       "    </tr>\n",
       "  </thead>\n",
       "  <tbody>\n",
       "    <tr>\n",
       "      <th>0</th>\n",
       "      <td>55</td>\n",
       "      <td>2045.56</td>\n",
       "    </tr>\n",
       "    <tr>\n",
       "      <th>1</th>\n",
       "      <td>78</td>\n",
       "      <td>2999.98</td>\n",
       "    </tr>\n",
       "  </tbody>\n",
       "</table>\n",
       "</div>"
      ],
      "text/plain": [
       "         Age  Amount_spent\n",
       "Referal                   \n",
       "0         55       2045.56\n",
       "1         78       2999.98"
      ]
     },
     "execution_count": 24,
     "metadata": {},
     "output_type": "execute_result"
    }
   ],
   "source": [
    "# Group by single column\n",
    "\n",
    "df[['Age', 'Amount_spent']].groupby(df['Referal']).max()"
   ]
  },
  {
   "cell_type": "code",
   "execution_count": 26,
   "metadata": {},
   "outputs": [
    {
     "data": {
      "text/html": [
       "<div>\n",
       "<style scoped>\n",
       "    .dataframe tbody tr th:only-of-type {\n",
       "        vertical-align: middle;\n",
       "    }\n",
       "\n",
       "    .dataframe tbody tr th {\n",
       "        vertical-align: top;\n",
       "    }\n",
       "\n",
       "    .dataframe thead tr th {\n",
       "        text-align: left;\n",
       "    }\n",
       "\n",
       "    .dataframe thead tr:last-of-type th {\n",
       "        text-align: right;\n",
       "    }\n",
       "</style>\n",
       "<table border=\"1\" class=\"dataframe\">\n",
       "  <thead>\n",
       "    <tr>\n",
       "      <th></th>\n",
       "      <th colspan=\"3\" halign=\"left\">Age</th>\n",
       "      <th colspan=\"3\" halign=\"left\">Amount_spent</th>\n",
       "    </tr>\n",
       "    <tr>\n",
       "      <th></th>\n",
       "      <th>count</th>\n",
       "      <th>mean</th>\n",
       "      <th>max</th>\n",
       "      <th>count</th>\n",
       "      <th>mean</th>\n",
       "      <th>max</th>\n",
       "    </tr>\n",
       "    <tr>\n",
       "      <th>Referal</th>\n",
       "      <th></th>\n",
       "      <th></th>\n",
       "      <th></th>\n",
       "      <th></th>\n",
       "      <th></th>\n",
       "      <th></th>\n",
       "    </tr>\n",
       "  </thead>\n",
       "  <tbody>\n",
       "    <tr>\n",
       "      <th>0</th>\n",
       "      <td>3</td>\n",
       "      <td>42.333333</td>\n",
       "      <td>55</td>\n",
       "      <td>3</td>\n",
       "      <td>1762.33</td>\n",
       "      <td>2045.56</td>\n",
       "    </tr>\n",
       "    <tr>\n",
       "      <th>1</th>\n",
       "      <td>4</td>\n",
       "      <td>53.750000</td>\n",
       "      <td>78</td>\n",
       "      <td>4</td>\n",
       "      <td>1487.90</td>\n",
       "      <td>2999.98</td>\n",
       "    </tr>\n",
       "  </tbody>\n",
       "</table>\n",
       "</div>"
      ],
      "text/plain": [
       "          Age                Amount_spent                  \n",
       "        count       mean max        count     mean      max\n",
       "Referal                                                    \n",
       "0           3  42.333333  55            3  1762.33  2045.56\n",
       "1           4  53.750000  78            4  1487.90  2999.98"
      ]
     },
     "execution_count": 26,
     "metadata": {},
     "output_type": "execute_result"
    }
   ],
   "source": [
    "# aggrigate function\n",
    "\n",
    "# To find mean, count, and max values of Age and Amount_spent by Gender then we can\n",
    "# use the agg() function with groupby().\n",
    "\n",
    "df[['Age','Amount_spent']].groupby(df['Referal']).agg(['count', 'mean', 'max'])\n"
   ]
  },
  {
   "cell_type": "code",
   "execution_count": 27,
   "metadata": {},
   "outputs": [
    {
     "name": "stdout",
     "output_type": "stream",
     "text": [
      "            Transaction_ID                 Amount_spent                  \n",
      "                     count     min     max        count      min      max\n",
      "Age Referal                                                              \n",
      "25  0                    1  151800  151800            1  2045.56  2045.56\n",
      "32  1                    1  153699  153699            1   250.50   250.50\n",
      "45  1                    1  152443  152443            1  1200.45  1200.45\n",
      "47  0                    1  151244  151244            1  1341.44  1341.44\n"
     ]
    }
   ],
   "source": [
    "# Group by multiple columns\n",
    "\n",
    "state_gender_res = df[['Transaction_ID','Age','Referal','Amount_spent']].groupby(['Age','Referal']).agg(['count','min','max'])\n",
    "\n",
    "print(state_gender_res.head(4))"
   ]
  },
  {
   "cell_type": "code",
   "execution_count": 28,
   "metadata": {},
   "outputs": [
    {
     "name": "stdout",
     "output_type": "stream",
     "text": [
      "Referal  0  1\n",
      "Age          \n",
      "25       1  0\n",
      "32       0  1\n",
      "45       0  1\n",
      "47       1  0\n",
      "55       1  0\n",
      "60       0  1\n",
      "78       0  1\n"
     ]
    }
   ],
   "source": [
    "# Cross Tabulation (Crosstab)\n",
    "\n",
    "# It will help to understand the correlation between different variables.\n",
    "\n",
    "print(pd.crosstab(df.Age, df.Referal))"
   ]
  },
  {
   "cell_type": "code",
   "execution_count": 30,
   "metadata": {},
   "outputs": [
    {
     "name": "stdout",
     "output_type": "stream",
     "text": [
      "Referal         0         1     Total\n",
      "Age                                  \n",
      "25       0.142857  0.000000  0.142857\n",
      "32       0.000000  0.142857  0.142857\n",
      "45       0.000000  0.142857  0.142857\n",
      "47       0.142857  0.000000  0.142857\n",
      "55       0.142857  0.000000  0.142857\n",
      "60       0.000000  0.142857  0.142857\n",
      "78       0.000000  0.142857  0.142857\n",
      "Total    0.428571  0.571429  1.000000\n"
     ]
    }
   ],
   "source": [
    "# include subtotals by margins parameter and display with percentage using normalize\n",
    "\n",
    "print(pd.crosstab(df.Age,df.Referal,normalize=True,margins=True,margins_name=\"Total\"))"
   ]
  }
 ],
 "metadata": {
  "kernelspec": {
   "display_name": "Python 3",
   "language": "python",
   "name": "python3"
  },
  "language_info": {
   "codemirror_mode": {
    "name": "ipython",
    "version": 3
   },
   "file_extension": ".py",
   "mimetype": "text/x-python",
   "name": "python",
   "nbconvert_exporter": "python",
   "pygments_lexer": "ipython3",
   "version": "3.12.3"
  }
 },
 "nbformat": 4,
 "nbformat_minor": 2
}
