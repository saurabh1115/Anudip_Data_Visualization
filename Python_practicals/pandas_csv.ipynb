{
 "cells": [
  {
   "cell_type": "code",
   "execution_count": 18,
   "metadata": {},
   "outputs": [
    {
     "name": "stdout",
     "output_type": "stream",
     "text": [
      "the data has been inserted in the csv file\n"
     ]
    }
   ],
   "source": [
    "# creating a csv file using pandas and enter values\n",
    "\n",
    "import pandas as pd\n",
    "data = {\n",
    "'OrderID': [101, 102, 103, 104, 105],\n",
    "'Product': ['Widget', 'Gadget', 'Widget', 'Doodad', 'Widget'],\n",
    "'Quantity': [10, 5, 0, 7, 15],\n",
    "'Status': ['Shipped', 'Canceled', 'Canceled', 'Shipped','Shipped']\n",
    "}\n",
    "df = pd.DataFrame(data)\n",
    "csv_file_path = 'data.csv'\n",
    "df.to_csv(csv_file_path, index=False)\n",
    "print(\"the data has been inserted in the csv file\")\n"
   ]
  },
  {
   "cell_type": "code",
   "execution_count": 19,
   "metadata": {},
   "outputs": [
    {
     "name": "stdout",
     "output_type": "stream",
     "text": [
      "   OrderID Product  Quantity    Status\n",
      "0      101  Widget        10   Shipped\n",
      "1      102  Gadget         5  Canceled\n",
      "2      103  Widget         0  Canceled\n",
      "3      104  Doodad         7   Shipped\n",
      "4      105  Widget        15   Shipped\n"
     ]
    }
   ],
   "source": [
    "# read data from a csv file\n",
    "\n",
    "data_df = pd.read_csv('data.csv')\n",
    "print(data_df)"
   ]
  },
  {
   "cell_type": "code",
   "execution_count": 22,
   "metadata": {},
   "outputs": [
    {
     "name": "stdout",
     "output_type": "stream",
     "text": [
      "   OrderID Product    Status\n",
      "0      101  Widget   Shipped\n",
      "1      102  Gadget  Canceled\n"
     ]
    }
   ],
   "source": [
    "# read conditional data from a csv file \n",
    "\n",
    "data_df = pd.read_csv('data.csv',nrows=2,usecols=[\"OrderID\",\"Product\",\"Status\"])\n",
    "print(data_df)"
   ]
  },
  {
   "cell_type": "code",
   "execution_count": 32,
   "metadata": {},
   "outputs": [
    {
     "data": {
      "text/html": [
       "<div>\n",
       "<style scoped>\n",
       "    .dataframe tbody tr th:only-of-type {\n",
       "        vertical-align: middle;\n",
       "    }\n",
       "\n",
       "    .dataframe tbody tr th {\n",
       "        vertical-align: top;\n",
       "    }\n",
       "\n",
       "    .dataframe thead th {\n",
       "        text-align: right;\n",
       "    }\n",
       "</style>\n",
       "<table border=\"1\" class=\"dataframe\">\n",
       "  <thead>\n",
       "    <tr style=\"text-align: right;\">\n",
       "      <th></th>\n",
       "      <th>OrderID</th>\n",
       "      <th>Product</th>\n",
       "      <th>Quantity</th>\n",
       "      <th>Status</th>\n",
       "    </tr>\n",
       "  </thead>\n",
       "  <tbody>\n",
       "    <tr>\n",
       "      <th>0</th>\n",
       "      <td>101</td>\n",
       "      <td>Widget</td>\n",
       "      <td>10</td>\n",
       "      <td>Shipped</td>\n",
       "    </tr>\n",
       "    <tr>\n",
       "      <th>1</th>\n",
       "      <td>102</td>\n",
       "      <td>Gadget</td>\n",
       "      <td>5</td>\n",
       "      <td>Canceled</td>\n",
       "    </tr>\n",
       "    <tr>\n",
       "      <th>2</th>\n",
       "      <td>103</td>\n",
       "      <td>Widget</td>\n",
       "      <td>0</td>\n",
       "      <td>Canceled</td>\n",
       "    </tr>\n",
       "  </tbody>\n",
       "</table>\n",
       "</div>"
      ],
      "text/plain": [
       "   OrderID Product  Quantity    Status\n",
       "0      101  Widget        10   Shipped\n",
       "1      102  Gadget         5  Canceled\n",
       "2      103  Widget         0  Canceled"
      ]
     },
     "execution_count": 32,
     "metadata": {},
     "output_type": "execute_result"
    }
   ],
   "source": [
    "# head function\n",
    "\n",
    "data_df = pd.read_csv('data.csv')\n",
    "data_df.head(3)"
   ]
  },
  {
   "cell_type": "code",
   "execution_count": 33,
   "metadata": {},
   "outputs": [
    {
     "data": {
      "text/html": [
       "<div>\n",
       "<style scoped>\n",
       "    .dataframe tbody tr th:only-of-type {\n",
       "        vertical-align: middle;\n",
       "    }\n",
       "\n",
       "    .dataframe tbody tr th {\n",
       "        vertical-align: top;\n",
       "    }\n",
       "\n",
       "    .dataframe thead th {\n",
       "        text-align: right;\n",
       "    }\n",
       "</style>\n",
       "<table border=\"1\" class=\"dataframe\">\n",
       "  <thead>\n",
       "    <tr style=\"text-align: right;\">\n",
       "      <th></th>\n",
       "      <th>OrderID</th>\n",
       "      <th>Product</th>\n",
       "      <th>Quantity</th>\n",
       "      <th>Status</th>\n",
       "    </tr>\n",
       "  </thead>\n",
       "  <tbody>\n",
       "    <tr>\n",
       "      <th>3</th>\n",
       "      <td>104</td>\n",
       "      <td>Doodad</td>\n",
       "      <td>7</td>\n",
       "      <td>Shipped</td>\n",
       "    </tr>\n",
       "    <tr>\n",
       "      <th>4</th>\n",
       "      <td>105</td>\n",
       "      <td>Widget</td>\n",
       "      <td>15</td>\n",
       "      <td>Shipped</td>\n",
       "    </tr>\n",
       "  </tbody>\n",
       "</table>\n",
       "</div>"
      ],
      "text/plain": [
       "   OrderID Product  Quantity   Status\n",
       "3      104  Doodad         7  Shipped\n",
       "4      105  Widget        15  Shipped"
      ]
     },
     "execution_count": 33,
     "metadata": {},
     "output_type": "execute_result"
    }
   ],
   "source": [
    "# tail function\n",
    "\n",
    "data_df = pd.read_csv('data.csv')\n",
    "data_df.tail(2)"
   ]
  },
  {
   "cell_type": "code",
   "execution_count": 30,
   "metadata": {},
   "outputs": [
    {
     "name": "stdout",
     "output_type": "stream",
     "text": [
      "<class 'pandas.core.frame.DataFrame'>\n",
      "RangeIndex: 5 entries, 0 to 4\n",
      "Data columns (total 4 columns):\n",
      " #   Column    Non-Null Count  Dtype \n",
      "---  ------    --------------  ----- \n",
      " 0   OrderID   5 non-null      int64 \n",
      " 1   Product   5 non-null      object\n",
      " 2   Quantity  5 non-null      int64 \n",
      " 3   Status    5 non-null      object\n",
      "dtypes: int64(2), object(2)\n",
      "memory usage: 292.0+ bytes\n"
     ]
    }
   ],
   "source": [
    "# info function\n",
    "\n",
    "# The info() function in Pandas is used to display a concise summary of the metadata and\n",
    "# information about a DataFrame, including the data types, non-null counts, and memory\n",
    "# usage.\n",
    "\n",
    "data_df = pd.read_csv('data.csv')\n",
    "data_df.info()"
   ]
  },
  {
   "cell_type": "code",
   "execution_count": 31,
   "metadata": {},
   "outputs": [
    {
     "data": {
      "text/html": [
       "<div>\n",
       "<style scoped>\n",
       "    .dataframe tbody tr th:only-of-type {\n",
       "        vertical-align: middle;\n",
       "    }\n",
       "\n",
       "    .dataframe tbody tr th {\n",
       "        vertical-align: top;\n",
       "    }\n",
       "\n",
       "    .dataframe thead th {\n",
       "        text-align: right;\n",
       "    }\n",
       "</style>\n",
       "<table border=\"1\" class=\"dataframe\">\n",
       "  <thead>\n",
       "    <tr style=\"text-align: right;\">\n",
       "      <th></th>\n",
       "      <th>OrderID</th>\n",
       "      <th>Quantity</th>\n",
       "    </tr>\n",
       "  </thead>\n",
       "  <tbody>\n",
       "    <tr>\n",
       "      <th>count</th>\n",
       "      <td>5.000000</td>\n",
       "      <td>5.00000</td>\n",
       "    </tr>\n",
       "    <tr>\n",
       "      <th>mean</th>\n",
       "      <td>103.000000</td>\n",
       "      <td>7.40000</td>\n",
       "    </tr>\n",
       "    <tr>\n",
       "      <th>std</th>\n",
       "      <td>1.581139</td>\n",
       "      <td>5.59464</td>\n",
       "    </tr>\n",
       "    <tr>\n",
       "      <th>min</th>\n",
       "      <td>101.000000</td>\n",
       "      <td>0.00000</td>\n",
       "    </tr>\n",
       "    <tr>\n",
       "      <th>25%</th>\n",
       "      <td>102.000000</td>\n",
       "      <td>5.00000</td>\n",
       "    </tr>\n",
       "    <tr>\n",
       "      <th>50%</th>\n",
       "      <td>103.000000</td>\n",
       "      <td>7.00000</td>\n",
       "    </tr>\n",
       "    <tr>\n",
       "      <th>75%</th>\n",
       "      <td>104.000000</td>\n",
       "      <td>10.00000</td>\n",
       "    </tr>\n",
       "    <tr>\n",
       "      <th>max</th>\n",
       "      <td>105.000000</td>\n",
       "      <td>15.00000</td>\n",
       "    </tr>\n",
       "  </tbody>\n",
       "</table>\n",
       "</div>"
      ],
      "text/plain": [
       "          OrderID  Quantity\n",
       "count    5.000000   5.00000\n",
       "mean   103.000000   7.40000\n",
       "std      1.581139   5.59464\n",
       "min    101.000000   0.00000\n",
       "25%    102.000000   5.00000\n",
       "50%    103.000000   7.00000\n",
       "75%    104.000000  10.00000\n",
       "max    105.000000  15.00000"
      ]
     },
     "execution_count": 31,
     "metadata": {},
     "output_type": "execute_result"
    }
   ],
   "source": [
    "# describe function\n",
    "\n",
    "# The describe() function in Pandas is used to generate various summary statistics for\n",
    "# numerical columns in a DataFrame. It provides statistics such as count, mean, standard\n",
    "# deviation, minimum, maximum, and quartiles.\n",
    "\n",
    "data_df = pd.read_csv('data.csv')\n",
    "data_df.describe()"
   ]
  },
  {
   "cell_type": "code",
   "execution_count": 35,
   "metadata": {},
   "outputs": [
    {
     "name": "stdout",
     "output_type": "stream",
     "text": [
      "Status\n",
      "Shipped     3\n",
      "Canceled    2\n",
      "Name: count, dtype: int64\n"
     ]
    }
   ],
   "source": [
    "#value count function\n",
    "\n",
    "data_df = pd.read_csv('data.csv')\n",
    "print(data_df['Status'].value_counts())"
   ]
  },
  {
   "cell_type": "code",
   "execution_count": 36,
   "metadata": {},
   "outputs": [
    {
     "data": {
      "text/html": [
       "<div>\n",
       "<style scoped>\n",
       "    .dataframe tbody tr th:only-of-type {\n",
       "        vertical-align: middle;\n",
       "    }\n",
       "\n",
       "    .dataframe tbody tr th {\n",
       "        vertical-align: top;\n",
       "    }\n",
       "\n",
       "    .dataframe thead th {\n",
       "        text-align: right;\n",
       "    }\n",
       "</style>\n",
       "<table border=\"1\" class=\"dataframe\">\n",
       "  <thead>\n",
       "    <tr style=\"text-align: right;\">\n",
       "      <th></th>\n",
       "      <th>OrderID</th>\n",
       "      <th>Product</th>\n",
       "      <th>Quantity</th>\n",
       "      <th>Status</th>\n",
       "    </tr>\n",
       "  </thead>\n",
       "  <tbody>\n",
       "    <tr>\n",
       "      <th>0</th>\n",
       "      <td>101</td>\n",
       "      <td>Widget</td>\n",
       "      <td>10</td>\n",
       "      <td>Shipped</td>\n",
       "    </tr>\n",
       "    <tr>\n",
       "      <th>1</th>\n",
       "      <td>102</td>\n",
       "      <td>Gadget</td>\n",
       "      <td>5</td>\n",
       "      <td>Canceled</td>\n",
       "    </tr>\n",
       "    <tr>\n",
       "      <th>2</th>\n",
       "      <td>103</td>\n",
       "      <td>Widget</td>\n",
       "      <td>0</td>\n",
       "      <td>Canceled</td>\n",
       "    </tr>\n",
       "    <tr>\n",
       "      <th>3</th>\n",
       "      <td>104</td>\n",
       "      <td>Doodad</td>\n",
       "      <td>7</td>\n",
       "      <td>Shipped</td>\n",
       "    </tr>\n",
       "    <tr>\n",
       "      <th>4</th>\n",
       "      <td>105</td>\n",
       "      <td>Widget</td>\n",
       "      <td>15</td>\n",
       "      <td>Shipped</td>\n",
       "    </tr>\n",
       "  </tbody>\n",
       "</table>\n",
       "</div>"
      ],
      "text/plain": [
       "   OrderID Product  Quantity    Status\n",
       "0      101  Widget        10   Shipped\n",
       "1      102  Gadget         5  Canceled\n",
       "2      103  Widget         0  Canceled\n",
       "3      104  Doodad         7   Shipped\n",
       "4      105  Widget        15   Shipped"
      ]
     },
     "execution_count": 36,
     "metadata": {},
     "output_type": "execute_result"
    }
   ],
   "source": [
    "# dropna function\n",
    "\n",
    "# The dropna() function in Pandas is used to remove missing or NaN (Not-a-Number)\n",
    "# values from a DataFrame or Series. It allows you to clean our data by eliminating rows\n",
    "# or columns that contain missing values.\n",
    "\n",
    "data_df = pd.read_csv('data.csv')\n",
    "data_df.dropna()"
   ]
  },
  {
   "cell_type": "code",
   "execution_count": 37,
   "metadata": {},
   "outputs": [
    {
     "data": {
      "text/plain": [
       "0    False\n",
       "1    False\n",
       "2    False\n",
       "3    False\n",
       "4    False\n",
       "dtype: bool"
      ]
     },
     "execution_count": 37,
     "metadata": {},
     "output_type": "execute_result"
    }
   ],
   "source": [
    "# duplicated function\n",
    "\n",
    "# The duplicated() function in Pandas is used to identify and mark duplicated rows in a\n",
    "# DataFrame or Series. It returns a Boolean Series that indicates whether each row is a\n",
    "# duplicate of a previous row (or multiple previous rows).\n",
    "\n",
    "data_df = pd.read_csv('data.csv')\n",
    "data_df.duplicated()"
   ]
  },
  {
   "cell_type": "code",
   "execution_count": 38,
   "metadata": {},
   "outputs": [
    {
     "data": {
      "text/html": [
       "<div>\n",
       "<style scoped>\n",
       "    .dataframe tbody tr th:only-of-type {\n",
       "        vertical-align: middle;\n",
       "    }\n",
       "\n",
       "    .dataframe tbody tr th {\n",
       "        vertical-align: top;\n",
       "    }\n",
       "\n",
       "    .dataframe thead th {\n",
       "        text-align: right;\n",
       "    }\n",
       "</style>\n",
       "<table border=\"1\" class=\"dataframe\">\n",
       "  <thead>\n",
       "    <tr style=\"text-align: right;\">\n",
       "      <th></th>\n",
       "      <th>OrderID</th>\n",
       "      <th>Product</th>\n",
       "      <th>Quantity</th>\n",
       "      <th>Status</th>\n",
       "    </tr>\n",
       "  </thead>\n",
       "  <tbody>\n",
       "    <tr>\n",
       "      <th>0</th>\n",
       "      <td>101</td>\n",
       "      <td>Widget</td>\n",
       "      <td>10</td>\n",
       "      <td>Shipped</td>\n",
       "    </tr>\n",
       "    <tr>\n",
       "      <th>1</th>\n",
       "      <td>102</td>\n",
       "      <td>Gadget</td>\n",
       "      <td>5</td>\n",
       "      <td>Canceled</td>\n",
       "    </tr>\n",
       "    <tr>\n",
       "      <th>2</th>\n",
       "      <td>103</td>\n",
       "      <td>Widget</td>\n",
       "      <td>0</td>\n",
       "      <td>Canceled</td>\n",
       "    </tr>\n",
       "    <tr>\n",
       "      <th>3</th>\n",
       "      <td>104</td>\n",
       "      <td>Doodad</td>\n",
       "      <td>7</td>\n",
       "      <td>Shipped</td>\n",
       "    </tr>\n",
       "    <tr>\n",
       "      <th>4</th>\n",
       "      <td>105</td>\n",
       "      <td>Widget</td>\n",
       "      <td>15</td>\n",
       "      <td>Shipped</td>\n",
       "    </tr>\n",
       "  </tbody>\n",
       "</table>\n",
       "</div>"
      ],
      "text/plain": [
       "   OrderID Product  Quantity    Status\n",
       "0      101  Widget        10   Shipped\n",
       "1      102  Gadget         5  Canceled\n",
       "2      103  Widget         0  Canceled\n",
       "3      104  Doodad         7   Shipped\n",
       "4      105  Widget        15   Shipped"
      ]
     },
     "execution_count": 38,
     "metadata": {},
     "output_type": "execute_result"
    }
   ],
   "source": [
    "# drop duplicates Function\n",
    "\n",
    "# The drop_duplicates() function in Pandas is used to remove duplicate rows from a\n",
    "# DataFrame. It allows you to eliminate rows that have the same values in specified\n",
    "# columns, leaving only one unique occurrence of each set of values.\n",
    "\n",
    "data_df = pd.read_csv('data.csv')\n",
    "data_df.drop_duplicates()"
   ]
  },
  {
   "cell_type": "code",
   "execution_count": 2,
   "metadata": {},
   "outputs": [
    {
     "name": "stdout",
     "output_type": "stream",
     "text": [
      "Before removing checking no of row and col\n",
      "(5, 4)\n",
      "After removing checking no of row and col\n",
      "(5, 4)\n",
      "After removing Nan values no of row and col\n",
      "(5, 4)\n",
      "Data Saved \n"
     ]
    }
   ],
   "source": [
    "# Save the cleaned dataset in a new csv file\n",
    "\n",
    "import pandas as pd\n",
    "\n",
    "data = pd.read_csv('data.csv', header=0)\n",
    "print(\"Before removing checking no of row and col\")\n",
    "print(data.shape)\n",
    "\n",
    "#Remove duplicate values\n",
    "data.drop_duplicates(inplace=True)\n",
    "\n",
    "print(\"After removing checking no of row and col\")\n",
    "print(data.shape)\n",
    "data.dropna(inplace=True)\n",
    "print(\"After removing Nan values no of row and col\")\n",
    "print(data.shape)\n",
    "\n",
    "#Save the files\n",
    "data.to_csv('cleaned_data.csv', index=False)\n",
    "print(\"Data Saved \")"
   ]
  }
 ],
 "metadata": {
  "kernelspec": {
   "display_name": "Python 3",
   "language": "python",
   "name": "python3"
  },
  "language_info": {
   "codemirror_mode": {
    "name": "ipython",
    "version": 3
   },
   "file_extension": ".py",
   "mimetype": "text/x-python",
   "name": "python",
   "nbconvert_exporter": "python",
   "pygments_lexer": "ipython3",
   "version": "3.12.3"
  }
 },
 "nbformat": 4,
 "nbformat_minor": 2
}
