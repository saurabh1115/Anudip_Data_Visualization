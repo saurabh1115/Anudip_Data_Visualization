{
 "cells": [
  {
   "cell_type": "code",
   "execution_count": 1,
   "metadata": {},
   "outputs": [
    {
     "name": "stdout",
     "output_type": "stream",
     "text": [
      "Chars= 8 alpha= 3 symbols= 4\n"
     ]
    }
   ],
   "source": [
    "# 1. Write a Python program to Count all letters, digits, and special symbols from the given string\n",
    "Input = \"P@#yn26at^&i5ve\"\n",
    "chars = 0\n",
    "digit=0\n",
    "symbols=0\n",
    "for char in Input:\n",
    "    if char.isalpha():\n",
    "        chars+=1\n",
    "    elif char.isdigit():\n",
    "        digit+=1\n",
    "    else:\n",
    "        symbols+=1\n",
    "print(\"Chars=\",chars,\"alpha=\",digit,\"symbols=\",symbols)"
   ]
  },
  {
   "cell_type": "code",
   "execution_count": 2,
   "metadata": {},
   "outputs": [
    {
     "name": "stdout",
     "output_type": "stream",
     "text": [
      "String after removing duplicate words: String and Function\n"
     ]
    }
   ],
   "source": [
    "# 2. Write a Python program to remove duplicate characters of a given string\n",
    "Input = \"String and String Function\"\n",
    "result = []\n",
    "words = Input.split()\n",
    "for word in words:\n",
    "    if word not in result:\n",
    "         result.append(word)\n",
    "print(\"String after removing duplicate words:\", *result)"
   ]
  },
  {
   "cell_type": "code",
   "execution_count": 3,
   "metadata": {},
   "outputs": [
    {
     "name": "stdout",
     "output_type": "stream",
     "text": [
      "UpperCase : 5 LowerCase : 18 NumberCase : 5 SpecialCase : 11\n"
     ]
    }
   ],
   "source": [
    "# 3. Write a Python program to count Uppercase, Lowercase, special character and numeric values in a given string\n",
    "Input = \"Hell0 W0rld ! 123 * # welcome to pYtHoN\"\n",
    "upper=0\n",
    "lower=0\n",
    "special=0\n",
    "num=0\n",
    "for char in Input:\n",
    "    if char.isupper():\n",
    "        upper+=1\n",
    "    elif char.islower():\n",
    "        lower+=1\n",
    "    elif char.isnumeric():\n",
    "        num+=1\n",
    "    else:\n",
    "        special+=1\n",
    "print(\"UpperCase :\",upper,\"LowerCase :\",lower,\"NumberCase :\",num,\"SpecialCase :\",special)"
   ]
  },
  {
   "cell_type": "code",
   "execution_count": 4,
   "metadata": {},
   "outputs": [
    {
     "name": "stdout",
     "output_type": "stream",
     "text": [
      "Total vowels are: 8\n"
     ]
    }
   ],
   "source": [
    "# 4. Write a Python Count vowels in a string\n",
    "input= \"Welcome to Python Assignment\"\n",
    "count = 0\n",
    "lower_str=input.lower()\n",
    "for i in lower_str:\n",
    "    if(i==\"a\" or i==\"e\" or i==\"i\" or i==\"o\" or i==\"u\"):\n",
    "        count+=1\n",
    "print(\"Total vowels are:\",count)"
   ]
  }
 ],
 "metadata": {
  "kernelspec": {
   "display_name": "Python 3",
   "language": "python",
   "name": "python3"
  },
  "language_info": {
   "codemirror_mode": {
    "name": "ipython",
    "version": 3
   },
   "file_extension": ".py",
   "mimetype": "text/x-python",
   "name": "python",
   "nbconvert_exporter": "python",
   "pygments_lexer": "ipython3",
   "version": "3.12.3"
  }
 },
 "nbformat": 4,
 "nbformat_minor": 2
}
