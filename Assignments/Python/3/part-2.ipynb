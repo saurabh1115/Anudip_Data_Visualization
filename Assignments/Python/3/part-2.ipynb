{
 "cells": [
  {
   "cell_type": "code",
   "execution_count": 1,
   "metadata": {},
   "outputs": [
    {
     "name": "stdout",
     "output_type": "stream",
     "text": [
      "{'To': 2, 'change': 2, 'the': 3, 'overall': 1, 'look': 2, 'of': 1, 'your': 1, 'document.': 1, 'available': 1, 'in': 1, 'gallery': 1}\n"
     ]
    }
   ],
   "source": [
    "# 1. Write a Python program to count the occurrences of each word in a given sentence\n",
    "str = \"To change the overall look of your document. To change the look available in the gallery\"\n",
    "str.lower()\n",
    "words = str.split()\n",
    "word_count={}\n",
    "for word in words:\n",
    "    if word in word_count:\n",
    "       word_count[word]+=1\n",
    "    else:\n",
    "       word_count[word]=1\n",
    "print(word_count)"
   ]
  },
  {
   "cell_type": "code",
   "execution_count": 2,
   "metadata": {},
   "outputs": [
    {
     "name": "stdout",
     "output_type": "stream",
     "text": [
      "Best Deeptech Python Training\n"
     ]
    }
   ],
   "source": [
    "# 2. Write a Python program to remove a newline in Python\n",
    "str = \"\\nBest \\nDeeptech \\nPython \\nTraining\\n\"    \n",
    "print(str.replace(\"\\n\",\"\"))"
   ]
  },
  {
   "cell_type": "code",
   "execution_count": 3,
   "metadata": {},
   "outputs": [
    {
     "name": "stdout",
     "output_type": "stream",
     "text": [
      "gniniarT nohtyP hcetpeeD\n"
     ]
    }
   ],
   "source": [
    "# 3. Write a Python program to reverse words in a string \n",
    "str=\"Deeptech Python Training\"\n",
    "print(str[::-1])"
   ]
  },
  {
   "cell_type": "code",
   "execution_count": 4,
   "metadata": {},
   "outputs": [
    {
     "name": "stdout",
     "output_type": "stream",
     "text": [
      "e 1\n",
      "o 2\n",
      "e 3\n",
      "o 4\n",
      "o 5\n",
      "a 6\n",
      "i 7\n",
      "i 8\n"
     ]
    }
   ],
   "source": [
    "# 4. Write a Python program to count and display the vowels of a given text\n",
    "str = \"Welcome to python Training\"\n",
    "count = 0\n",
    "lower_str=str.lower()\n",
    "for i in lower_str:\n",
    "    if(i==\"a\" or i==\"e\" or i==\"i\" or i==\"o\" or i==\"u\"):\n",
    "        count+=1\n",
    "        print(i,count)"
   ]
  }
 ],
 "metadata": {
  "kernelspec": {
   "display_name": "Python 3",
   "language": "python",
   "name": "python3"
  },
  "language_info": {
   "codemirror_mode": {
    "name": "ipython",
    "version": 3
   },
   "file_extension": ".py",
   "mimetype": "text/x-python",
   "name": "python",
   "nbconvert_exporter": "python",
   "pygments_lexer": "ipython3",
   "version": "3.12.3"
  }
 },
 "nbformat": 4,
 "nbformat_minor": 2
}
