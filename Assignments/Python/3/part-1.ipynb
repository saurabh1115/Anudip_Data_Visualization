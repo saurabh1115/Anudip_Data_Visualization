{
 "cells": [
  {
   "cell_type": "code",
   "execution_count": 1,
   "metadata": {},
   "outputs": [
    {
     "name": "stdout",
     "output_type": "stream",
     "text": [
      "2.0\n"
     ]
    }
   ],
   "source": [
    "import random\n",
    "# 1. Declare a div() function with two parameters. Then call the function and pass two numbers and display their division.\n",
    "def div(a,b):\n",
    "    result =a/b\n",
    "    print(result)\n",
    "div(20,10)"
   ]
  },
  {
   "cell_type": "code",
   "execution_count": 2,
   "metadata": {},
   "outputs": [
    {
     "name": "stdout",
     "output_type": "stream",
     "text": [
      "25\n"
     ]
    }
   ],
   "source": [
    "# 2. Declare a square() function with one parameter.Then call the function and pass one number and display the square of that number \n",
    "def square(a):\n",
    "    result= a*a\n",
    "    print(result)\n",
    "square(5)"
   ]
  },
  {
   "cell_type": "code",
   "execution_count": 3,
   "metadata": {},
   "outputs": [
    {
     "name": "stdout",
     "output_type": "stream",
     "text": [
      "Random Numbers: [25, 52, 55, 2, 59]\n",
      "The maximum number is: 59\n",
      "The minimum number is: 2\n"
     ]
    }
   ],
   "source": [
    "# 3. Using max() and min() functions display the maximum and minimum of 5 random numbers.\n",
    "random_numbers = [random.randint(1, 100) for _ in range(5)]\n",
    "print(\"Random Numbers:\", random_numbers)\n",
    "max_number = max(random_numbers)\n",
    "min_number = min(random_numbers)\n",
    "print(\"The maximum number is:\", max_number)\n",
    "print(\"The minimum number is:\", min_number)"
   ]
  },
  {
   "cell_type": "code",
   "execution_count": 5,
   "metadata": {},
   "outputs": [
    {
     "name": "stdout",
     "output_type": "stream",
     "text": [
      "Name in Lower Case:  saurabh\n"
     ]
    }
   ],
   "source": [
    "# 4. Accept a name from the user and display that in lower case using lower() function\n",
    "name = input(\"Enter You Name: \")\n",
    "print(\"Name in Lower Case: \",name.lower())"
   ]
  }
 ],
 "metadata": {
  "kernelspec": {
   "display_name": "Python 3",
   "language": "python",
   "name": "python3"
  },
  "language_info": {
   "codemirror_mode": {
    "name": "ipython",
    "version": 3
   },
   "file_extension": ".py",
   "mimetype": "text/x-python",
   "name": "python",
   "nbconvert_exporter": "python",
   "pygments_lexer": "ipython3",
   "version": "3.12.3"
  }
 },
 "nbformat": 4,
 "nbformat_minor": 2
}
