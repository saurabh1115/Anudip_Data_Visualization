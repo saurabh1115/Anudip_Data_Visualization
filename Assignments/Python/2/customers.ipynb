{
 "cells": [
  {
   "cell_type": "code",
   "execution_count": 2,
   "metadata": {},
   "outputs": [],
   "source": [
    "# import libraries\n",
    "import pandas as pd \n",
    "from tabulate import tabulate\n",
    "import matplotlib.pyplot as plt"
   ]
  },
  {
   "cell_type": "code",
   "execution_count": 3,
   "metadata": {},
   "outputs": [
    {
     "name": "stdout",
     "output_type": "stream",
     "text": [
      "+----+---------------+-------+------------+---------------+----------------+--------------------+---------+\n",
      "|    |   customer_id |   age | gender     | city          |   amount_spent | product_category   |   sales |\n",
      "+====+===============+=======+============+===============+================+====================+=========+\n",
      "|  0 |             1 |    29 | Female     | New York      |         250.75 | Electronics        |       3 |\n",
      "+----+---------------+-------+------------+---------------+----------------+--------------------+---------+\n",
      "|  1 |             2 |    35 | Male       | San Francisco |         450.2  | Home Appliances    |       5 |\n",
      "+----+---------------+-------+------------+---------------+----------------+--------------------+---------+\n",
      "|  2 |             3 |    42 | Female     | Chicago       |         150    | Books              |       2 |\n",
      "+----+---------------+-------+------------+---------------+----------------+--------------------+---------+\n",
      "|  3 |             4 |    22 | Male       | Los Angeles   |          89.99 | Clothing           |       1 |\n",
      "+----+---------------+-------+------------+---------------+----------------+--------------------+---------+\n",
      "|  4 |             5 |    31 | Non-binary | Boston        |         320    | Sports             |       4 |\n",
      "+----+---------------+-------+------------+---------------+----------------+--------------------+---------+\n",
      "|  5 |             6 |    27 | Female     | Miami         |         189.5  | Beauty             |       2 |\n",
      "+----+---------------+-------+------------+---------------+----------------+--------------------+---------+\n",
      "|  6 |             7 |    38 | Male       | Seattle       |         275.6  | Toys               |       3 |\n",
      "+----+---------------+-------+------------+---------------+----------------+--------------------+---------+\n",
      "|  7 |             8 |    46 | Female     | Boston        |         410.75 | Furniture          |       4 |\n",
      "+----+---------------+-------+------------+---------------+----------------+--------------------+---------+\n",
      "|  8 |             9 |    55 | Male       | Boston        |         500    | Jewelry            |       6 |\n",
      "+----+---------------+-------+------------+---------------+----------------+--------------------+---------+\n",
      "|  9 |            10 |    40 | Female     | Atlanta       |         150.3  | Kitchen            |       3 |\n",
      "+----+---------------+-------+------------+---------------+----------------+--------------------+---------+\n"
     ]
    }
   ],
   "source": [
    "# Sample data for customers\n",
    "customers = [\n",
    "    {\"customer_id\": 1,\"age\": 29,\"gender\": \"Female\",\"city\": \"New York\",\"amount_spent\": 250.75,\"product_category\": \"Electronics\",\"sales\": 3},\n",
    "    {\"customer_id\": 2,\"age\": 35,\"gender\": \"Male\",\"city\": \"San Francisco\",\"amount_spent\": 450.20,\"product_category\": \"Home Appliances\",\"sales\": 5},\n",
    "    {\"customer_id\": 3,\"age\": 42,\"gender\": \"Female\",\"city\": \"Chicago\",\"amount_spent\": 150.00,\"product_category\": \"Books\",\"sales\": 2},\n",
    "    {\"customer_id\": 4,\"age\": 22,\"gender\": \"Male\",\"city\": \"Los Angeles\",\"amount_spent\": 89.99,\"product_category\": \"Clothing\",\"sales\": 1},\n",
    "    {\"customer_id\": 5,\"age\": 31,\"gender\": \"Non-binary\",\"city\": \"Boston\",\"amount_spent\": 320.00,\"product_category\": \"Sports\",\"sales\": 4},\n",
    "    {\"customer_id\": 6,\"age\": 27,\"gender\": \"Female\",\"city\": \"Miami\",\"amount_spent\": 189.50,\"product_category\": \"Beauty\",\"sales\": 2},\n",
    "    {\"customer_id\": 7,\"age\": 38,\"gender\": \"Male\",\"city\": \"Seattle\",\"amount_spent\": 275.60,\"product_category\": \"Toys\",\"sales\": 3},\n",
    "    {\"customer_id\": 8,\"age\": 46,\"gender\": \"Female\",\"city\": \"Boston\",\"amount_spent\": 410.75,\"product_category\": \"Furniture\",\"sales\": 4},\n",
    "    {\"customer_id\": 9,\"age\": 55,\"gender\": \"Male\",\"city\": \"Boston\",\"amount_spent\": 500.00,\"product_category\": \"Jewelry\",\"sales\": 6},\n",
    "    {\"customer_id\": 10,\"age\": 40,\"gender\": \"Female\",\"city\": \"Atlanta\",\"amount_spent\": 150.30,\"product_category\": \"Kitchen\",\"sales\": 3}\n",
    "]\n",
    "\n",
    "header = [\"customer_id\",\"age\",\"gender\",\"city\",\"amount_spent\",\"product_category\",\"sales\"]\n",
    "\n",
    "df=pd.DataFrame(data=customers,columns=header)\n",
    "\n",
    "customers_tabulate= tabulate(df,headers=header,tablefmt=\"grid\")\n",
    "print(customers_tabulate)\n"
   ]
  },
  {
   "cell_type": "markdown",
   "metadata": {},
   "source": [
    "# Customer Demographics Analysis:"
   ]
  },
  {
   "cell_type": "code",
   "execution_count": 4,
   "metadata": {},
   "outputs": [
    {
     "name": "stdout",
     "output_type": "stream",
     "text": [
      "Average age of customer is :  36.5\n"
     ]
    }
   ],
   "source": [
    "# Calculate the average age of customers. \n",
    "\n",
    "avg = df['age'].mean()\n",
    "print(\"Average age of customer is : \",avg)"
   ]
  },
  {
   "cell_type": "code",
   "execution_count": 14,
   "metadata": {},
   "outputs": [
    {
     "name": "stdout",
     "output_type": "stream",
     "text": [
      "Number of Male customers: 4\n",
      "Number of Female customers: 5\n"
     ]
    },
    {
     "data": {
      "image/png": "[encoded data removed]",
      "text/plain": [
       "<Figure size 800x600 with 1 Axes>"
      ]
     },
     "metadata": {},
     "output_type": "display_data"
    }
   ],
   "source": [
    "# Find the number of male and female customers.\n",
    "\n",
    "gender_counts = df['gender'].value_counts()\n",
    "\n",
    "num_male = gender_counts.get('Male', 0)\n",
    "num_female = gender_counts.get('Female', 0)\n",
    "\n",
    "print(f\"Number of Male customers: {num_male}\")\n",
    "print(f\"Number of Female customers: {num_female}\")\n",
    "\n",
    "gender_labels = gender_counts.index\n",
    "gender_values = gender_counts.values\n",
    "\n",
    "plt.figure(figsize=(8, 6))\n",
    "bars = plt.bar(gender_labels, gender_values, color=['pink', 'blue', 'black'])\n",
    "\n",
    "plt.xlabel('Gender')\n",
    "plt.ylabel('Count')\n",
    "plt.title('Count of Each Gender')\n",
    "\n",
    "for bar in bars:\n",
    "    height = bar.get_height()\n",
    "    plt.text(bar.get_x() + bar.get_width() / 2, height + 0.2, \n",
    "             f'{height}', \n",
    "             ha='center', va='bottom')\n",
    "\n",
    "plt.show()"
   ]
  },
  {
   "cell_type": "code",
   "execution_count": 6,
   "metadata": {},
   "outputs": [
    {
     "name": "stdout",
     "output_type": "stream",
     "text": [
      "The city with the highest number of customers is: Boston:3\n"
     ]
    }
   ],
   "source": [
    "# Identify which city has the highest number of customers.\n",
    "\n",
    "city_counts = df.groupby('city').size()\n",
    "\n",
    "city_with_most_customers = city_counts.idxmax()\n",
    "highest_count = city_counts.max()\n",
    "\n",
    "print(f'The city with the highest number of customers is: {city_with_most_customers}:{highest_count}')"
   ]
  }
 ],
 "metadata": {
  "kernelspec": {
   "display_name": "Python 3",
   "language": "python",
   "name": "python3"
  },
  "language_info": {
   "codemirror_mode": {
    "name": "ipython",
    "version": 3
   },
   "file_extension": ".py",
   "mimetype": "text/x-python",
   "name": "python",
   "nbconvert_exporter": "python",
   "pygments_lexer": "ipython3",
   "version": "3.12.3"
  }
 },
 "nbformat": 4,
 "nbformat_minor": 2
}
